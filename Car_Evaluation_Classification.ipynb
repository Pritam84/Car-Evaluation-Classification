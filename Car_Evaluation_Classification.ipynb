{
  "nbformat": 4,
  "nbformat_minor": 0,
  "metadata": {
    "colab": {
      "name": "Car_Evaluation_Classification.ipynb",
      "provenance": [],
      "collapsed_sections": [],
      "include_colab_link": true
    },
    "kernelspec": {
      "name": "python3",
      "display_name": "Python 3"
    },
    "language_info": {
      "name": "python"
    }
  },
  "cells": [
    {
      "cell_type": "markdown",
      "metadata": {
        "id": "view-in-github",
        "colab_type": "text"
      },
      "source": [
        "<a href=\"https://colab.research.google.com/github/Pritam84/Car-Evaluation-Classification/blob/main/Car_Evaluation_Classification.ipynb\" target=\"_parent\"><img src=\"https://colab.research.google.com/assets/colab-badge.svg\" alt=\"Open In Colab\"/></a>"
      ]
    },
    {
      "cell_type": "markdown",
      "source": [
        "#**Python Project on Car Evaluation Classification**"
      ],
      "metadata": {
        "id": "tAbj0W3SpSGg"
      }
    },
    {
      "cell_type": "markdown",
      "source": [
        "#**Overview of the project**\n",
        "\n",
        "\n",
        "*   The dataset have choosen for this particular project is a **labelled** dataset. So, the project will be Supervised Learning.\n",
        "\n",
        "*   The dataset contains information about **differenrt attributes of a car** which are observed if someone try to evaluate a car in terms of it's **acceptability**.\n",
        "*   So, the dataset contains the different categories of different attributes of car. Based on some feature attributes we will need to **classify** the acceptability of that car.\n",
        "\n",
        "\n",
        "*   So, basically the project is going to be a **supervised **learning classification problem.\n",
        "\n",
        "*   We will try to build such machine learning models to classify the acceptability precisely.\n",
        "*   The final aim to achieve a machine leaning model which will be performing best to classify acceptability of a car on this particular dataset. Which can be helpful for the car seller to make their business decisions.\n",
        "\n",
        "[Dataset source:]\n",
        "(https://archive.ics.uci.edu/ml/datasets/Car+Evaluation)\n",
        "\n",
        "\n",
        "\n",
        "\n",
        "\n"
      ],
      "metadata": {
        "id": "X_89FdzAqA3h"
      }
    },
    {
      "cell_type": "code",
      "source": [
        "#importing drive to access the dataset from google drive local storage\n",
        "from google.colab import drive\n",
        "drive.mount('/content/drive')"
      ],
      "metadata": {
        "colab": {
          "base_uri": "https://localhost:8080/"
        },
        "id": "B4JSr9KnvOVR",
        "outputId": "d1cdc69f-48c1-40ef-b92a-77fdd6970ead"
      },
      "execution_count": null,
      "outputs": [
        {
          "output_type": "stream",
          "name": "stdout",
          "text": [
            "Mounted at /content/drive\n"
          ]
        }
      ]
    },
    {
      "cell_type": "markdown",
      "source": [
        "#**Importing Necessary Libraries**"
      ],
      "metadata": {
        "id": "5PuAA3XLti_i"
      }
    },
    {
      "cell_type": "code",
      "execution_count": null,
      "metadata": {
        "id": "HtrjJfIMpFgy"
      },
      "outputs": [],
      "source": [
        "#data manipulation libraries\n",
        "import numpy as np\n",
        "import pandas as pd\n",
        "# Visualization Libraries\n",
        "import matplotlib.pyplot as plt\n",
        "import seaborn as sns\n",
        "from sklearn import metrics # for checking the model accuracy\n",
        "#To plot the graph embedded in the notebook\n",
        "%matplotlib inline"
      ]
    },
    {
      "cell_type": "markdown",
      "source": [
        "#**Loading the dataset**\n",
        "\n",
        "1.   Now, we will be loading the dataset using Pandas **Data frame** object.\n",
        "2.   The dataset file format is **Comma Separated Value**(CSV)\n",
        "\n"
      ],
      "metadata": {
        "id": "4DgHVNbEuOdc"
      }
    },
    {
      "cell_type": "code",
      "source": [
        "car = pd.read_csv(\"/content/drive/MyDrive/Python_Final_Project/car_data_folder/car.csv\",header=0)\n",
        "car.head()"
      ],
      "metadata": {
        "colab": {
          "base_uri": "https://localhost:8080/",
          "height": 206
        },
        "id": "ZYv65XARuyXP",
        "outputId": "6c4845b4-38e0-4346-f485-1b5de943839f"
      },
      "execution_count": null,
      "outputs": [
        {
          "output_type": "execute_result",
          "data": {
            "text/plain": [
              "  Buying Price Maintenance Doors Persons Lug_boot Safety Acceptability\n",
              "0        vhigh       vhigh     2       2    small    low         unacc\n",
              "1        vhigh       vhigh     2       2    small    med         unacc\n",
              "2        vhigh       vhigh     2       2    small   high         unacc\n",
              "3        vhigh       vhigh     2       2      med    low         unacc\n",
              "4        vhigh       vhigh     2       2      med    med         unacc"
            ],
            "text/html": [
              "\n",
              "  <div id=\"df-d5946d95-02c5-4379-b4b1-f7a8e1242cda\">\n",
              "    <div class=\"colab-df-container\">\n",
              "      <div>\n",
              "<style scoped>\n",
              "    .dataframe tbody tr th:only-of-type {\n",
              "        vertical-align: middle;\n",
              "    }\n",
              "\n",
              "    .dataframe tbody tr th {\n",
              "        vertical-align: top;\n",
              "    }\n",
              "\n",
              "    .dataframe thead th {\n",
              "        text-align: right;\n",
              "    }\n",
              "</style>\n",
              "<table border=\"1\" class=\"dataframe\">\n",
              "  <thead>\n",
              "    <tr style=\"text-align: right;\">\n",
              "      <th></th>\n",
              "      <th>Buying Price</th>\n",
              "      <th>Maintenance</th>\n",
              "      <th>Doors</th>\n",
              "      <th>Persons</th>\n",
              "      <th>Lug_boot</th>\n",
              "      <th>Safety</th>\n",
              "      <th>Acceptability</th>\n",
              "    </tr>\n",
              "  </thead>\n",
              "  <tbody>\n",
              "    <tr>\n",
              "      <th>0</th>\n",
              "      <td>vhigh</td>\n",
              "      <td>vhigh</td>\n",
              "      <td>2</td>\n",
              "      <td>2</td>\n",
              "      <td>small</td>\n",
              "      <td>low</td>\n",
              "      <td>unacc</td>\n",
              "    </tr>\n",
              "    <tr>\n",
              "      <th>1</th>\n",
              "      <td>vhigh</td>\n",
              "      <td>vhigh</td>\n",
              "      <td>2</td>\n",
              "      <td>2</td>\n",
              "      <td>small</td>\n",
              "      <td>med</td>\n",
              "      <td>unacc</td>\n",
              "    </tr>\n",
              "    <tr>\n",
              "      <th>2</th>\n",
              "      <td>vhigh</td>\n",
              "      <td>vhigh</td>\n",
              "      <td>2</td>\n",
              "      <td>2</td>\n",
              "      <td>small</td>\n",
              "      <td>high</td>\n",
              "      <td>unacc</td>\n",
              "    </tr>\n",
              "    <tr>\n",
              "      <th>3</th>\n",
              "      <td>vhigh</td>\n",
              "      <td>vhigh</td>\n",
              "      <td>2</td>\n",
              "      <td>2</td>\n",
              "      <td>med</td>\n",
              "      <td>low</td>\n",
              "      <td>unacc</td>\n",
              "    </tr>\n",
              "    <tr>\n",
              "      <th>4</th>\n",
              "      <td>vhigh</td>\n",
              "      <td>vhigh</td>\n",
              "      <td>2</td>\n",
              "      <td>2</td>\n",
              "      <td>med</td>\n",
              "      <td>med</td>\n",
              "      <td>unacc</td>\n",
              "    </tr>\n",
              "  </tbody>\n",
              "</table>\n",
              "</div>\n",
              "      <button class=\"colab-df-convert\" onclick=\"convertToInteractive('df-d5946d95-02c5-4379-b4b1-f7a8e1242cda')\"\n",
              "              title=\"Convert this dataframe to an interactive table.\"\n",
              "              style=\"display:none;\">\n",
              "        \n",
              "  <svg xmlns=\"http://www.w3.org/2000/svg\" height=\"24px\"viewBox=\"0 0 24 24\"\n",
              "       width=\"24px\">\n",
              "    <path d=\"M0 0h24v24H0V0z\" fill=\"none\"/>\n",
              "    <path d=\"M18.56 5.44l.94 2.06.94-2.06 2.06-.94-2.06-.94-.94-2.06-.94 2.06-2.06.94zm-11 1L8.5 8.5l.94-2.06 2.06-.94-2.06-.94L8.5 2.5l-.94 2.06-2.06.94zm10 10l.94 2.06.94-2.06 2.06-.94-2.06-.94-.94-2.06-.94 2.06-2.06.94z\"/><path d=\"M17.41 7.96l-1.37-1.37c-.4-.4-.92-.59-1.43-.59-.52 0-1.04.2-1.43.59L10.3 9.45l-7.72 7.72c-.78.78-.78 2.05 0 2.83L4 21.41c.39.39.9.59 1.41.59.51 0 1.02-.2 1.41-.59l7.78-7.78 2.81-2.81c.8-.78.8-2.07 0-2.86zM5.41 20L4 18.59l7.72-7.72 1.47 1.35L5.41 20z\"/>\n",
              "  </svg>\n",
              "      </button>\n",
              "      \n",
              "  <style>\n",
              "    .colab-df-container {\n",
              "      display:flex;\n",
              "      flex-wrap:wrap;\n",
              "      gap: 12px;\n",
              "    }\n",
              "\n",
              "    .colab-df-convert {\n",
              "      background-color: #E8F0FE;\n",
              "      border: none;\n",
              "      border-radius: 50%;\n",
              "      cursor: pointer;\n",
              "      display: none;\n",
              "      fill: #1967D2;\n",
              "      height: 32px;\n",
              "      padding: 0 0 0 0;\n",
              "      width: 32px;\n",
              "    }\n",
              "\n",
              "    .colab-df-convert:hover {\n",
              "      background-color: #E2EBFA;\n",
              "      box-shadow: 0px 1px 2px rgba(60, 64, 67, 0.3), 0px 1px 3px 1px rgba(60, 64, 67, 0.15);\n",
              "      fill: #174EA6;\n",
              "    }\n",
              "\n",
              "    [theme=dark] .colab-df-convert {\n",
              "      background-color: #3B4455;\n",
              "      fill: #D2E3FC;\n",
              "    }\n",
              "\n",
              "    [theme=dark] .colab-df-convert:hover {\n",
              "      background-color: #434B5C;\n",
              "      box-shadow: 0px 1px 3px 1px rgba(0, 0, 0, 0.15);\n",
              "      filter: drop-shadow(0px 1px 2px rgba(0, 0, 0, 0.3));\n",
              "      fill: #FFFFFF;\n",
              "    }\n",
              "  </style>\n",
              "\n",
              "      <script>\n",
              "        const buttonEl =\n",
              "          document.querySelector('#df-d5946d95-02c5-4379-b4b1-f7a8e1242cda button.colab-df-convert');\n",
              "        buttonEl.style.display =\n",
              "          google.colab.kernel.accessAllowed ? 'block' : 'none';\n",
              "\n",
              "        async function convertToInteractive(key) {\n",
              "          const element = document.querySelector('#df-d5946d95-02c5-4379-b4b1-f7a8e1242cda');\n",
              "          const dataTable =\n",
              "            await google.colab.kernel.invokeFunction('convertToInteractive',\n",
              "                                                     [key], {});\n",
              "          if (!dataTable) return;\n",
              "\n",
              "          const docLinkHtml = 'Like what you see? Visit the ' +\n",
              "            '<a target=\"_blank\" href=https://colab.research.google.com/notebooks/data_table.ipynb>data table notebook</a>'\n",
              "            + ' to learn more about interactive tables.';\n",
              "          element.innerHTML = '';\n",
              "          dataTable['output_type'] = 'display_data';\n",
              "          await google.colab.output.renderOutput(dataTable, element);\n",
              "          const docLink = document.createElement('div');\n",
              "          docLink.innerHTML = docLinkHtml;\n",
              "          element.appendChild(docLink);\n",
              "        }\n",
              "      </script>\n",
              "    </div>\n",
              "  </div>\n",
              "  "
            ]
          },
          "metadata": {},
          "execution_count": 3
        }
      ]
    },
    {
      "cell_type": "code",
      "source": [
        "car.tail()"
      ],
      "metadata": {
        "colab": {
          "base_uri": "https://localhost:8080/",
          "height": 206
        },
        "id": "z-p5gUYLvdWq",
        "outputId": "95db3e0a-a047-4167-912d-9f50085e1b45"
      },
      "execution_count": null,
      "outputs": [
        {
          "output_type": "execute_result",
          "data": {
            "text/plain": [
              "     Buying Price Maintenance  Doors Persons Lug_boot Safety Acceptability\n",
              "1723          low         low  5more    more      med    med          good\n",
              "1724          low         low  5more    more      med   high         vgood\n",
              "1725          low         low  5more    more      big    low         unacc\n",
              "1726          low         low  5more    more      big    med          good\n",
              "1727          low         low  5more    more      big   high         vgood"
            ],
            "text/html": [
              "\n",
              "  <div id=\"df-f82c3219-d3ce-4845-94ff-548f93383049\">\n",
              "    <div class=\"colab-df-container\">\n",
              "      <div>\n",
              "<style scoped>\n",
              "    .dataframe tbody tr th:only-of-type {\n",
              "        vertical-align: middle;\n",
              "    }\n",
              "\n",
              "    .dataframe tbody tr th {\n",
              "        vertical-align: top;\n",
              "    }\n",
              "\n",
              "    .dataframe thead th {\n",
              "        text-align: right;\n",
              "    }\n",
              "</style>\n",
              "<table border=\"1\" class=\"dataframe\">\n",
              "  <thead>\n",
              "    <tr style=\"text-align: right;\">\n",
              "      <th></th>\n",
              "      <th>Buying Price</th>\n",
              "      <th>Maintenance</th>\n",
              "      <th>Doors</th>\n",
              "      <th>Persons</th>\n",
              "      <th>Lug_boot</th>\n",
              "      <th>Safety</th>\n",
              "      <th>Acceptability</th>\n",
              "    </tr>\n",
              "  </thead>\n",
              "  <tbody>\n",
              "    <tr>\n",
              "      <th>1723</th>\n",
              "      <td>low</td>\n",
              "      <td>low</td>\n",
              "      <td>5more</td>\n",
              "      <td>more</td>\n",
              "      <td>med</td>\n",
              "      <td>med</td>\n",
              "      <td>good</td>\n",
              "    </tr>\n",
              "    <tr>\n",
              "      <th>1724</th>\n",
              "      <td>low</td>\n",
              "      <td>low</td>\n",
              "      <td>5more</td>\n",
              "      <td>more</td>\n",
              "      <td>med</td>\n",
              "      <td>high</td>\n",
              "      <td>vgood</td>\n",
              "    </tr>\n",
              "    <tr>\n",
              "      <th>1725</th>\n",
              "      <td>low</td>\n",
              "      <td>low</td>\n",
              "      <td>5more</td>\n",
              "      <td>more</td>\n",
              "      <td>big</td>\n",
              "      <td>low</td>\n",
              "      <td>unacc</td>\n",
              "    </tr>\n",
              "    <tr>\n",
              "      <th>1726</th>\n",
              "      <td>low</td>\n",
              "      <td>low</td>\n",
              "      <td>5more</td>\n",
              "      <td>more</td>\n",
              "      <td>big</td>\n",
              "      <td>med</td>\n",
              "      <td>good</td>\n",
              "    </tr>\n",
              "    <tr>\n",
              "      <th>1727</th>\n",
              "      <td>low</td>\n",
              "      <td>low</td>\n",
              "      <td>5more</td>\n",
              "      <td>more</td>\n",
              "      <td>big</td>\n",
              "      <td>high</td>\n",
              "      <td>vgood</td>\n",
              "    </tr>\n",
              "  </tbody>\n",
              "</table>\n",
              "</div>\n",
              "      <button class=\"colab-df-convert\" onclick=\"convertToInteractive('df-f82c3219-d3ce-4845-94ff-548f93383049')\"\n",
              "              title=\"Convert this dataframe to an interactive table.\"\n",
              "              style=\"display:none;\">\n",
              "        \n",
              "  <svg xmlns=\"http://www.w3.org/2000/svg\" height=\"24px\"viewBox=\"0 0 24 24\"\n",
              "       width=\"24px\">\n",
              "    <path d=\"M0 0h24v24H0V0z\" fill=\"none\"/>\n",
              "    <path d=\"M18.56 5.44l.94 2.06.94-2.06 2.06-.94-2.06-.94-.94-2.06-.94 2.06-2.06.94zm-11 1L8.5 8.5l.94-2.06 2.06-.94-2.06-.94L8.5 2.5l-.94 2.06-2.06.94zm10 10l.94 2.06.94-2.06 2.06-.94-2.06-.94-.94-2.06-.94 2.06-2.06.94z\"/><path d=\"M17.41 7.96l-1.37-1.37c-.4-.4-.92-.59-1.43-.59-.52 0-1.04.2-1.43.59L10.3 9.45l-7.72 7.72c-.78.78-.78 2.05 0 2.83L4 21.41c.39.39.9.59 1.41.59.51 0 1.02-.2 1.41-.59l7.78-7.78 2.81-2.81c.8-.78.8-2.07 0-2.86zM5.41 20L4 18.59l7.72-7.72 1.47 1.35L5.41 20z\"/>\n",
              "  </svg>\n",
              "      </button>\n",
              "      \n",
              "  <style>\n",
              "    .colab-df-container {\n",
              "      display:flex;\n",
              "      flex-wrap:wrap;\n",
              "      gap: 12px;\n",
              "    }\n",
              "\n",
              "    .colab-df-convert {\n",
              "      background-color: #E8F0FE;\n",
              "      border: none;\n",
              "      border-radius: 50%;\n",
              "      cursor: pointer;\n",
              "      display: none;\n",
              "      fill: #1967D2;\n",
              "      height: 32px;\n",
              "      padding: 0 0 0 0;\n",
              "      width: 32px;\n",
              "    }\n",
              "\n",
              "    .colab-df-convert:hover {\n",
              "      background-color: #E2EBFA;\n",
              "      box-shadow: 0px 1px 2px rgba(60, 64, 67, 0.3), 0px 1px 3px 1px rgba(60, 64, 67, 0.15);\n",
              "      fill: #174EA6;\n",
              "    }\n",
              "\n",
              "    [theme=dark] .colab-df-convert {\n",
              "      background-color: #3B4455;\n",
              "      fill: #D2E3FC;\n",
              "    }\n",
              "\n",
              "    [theme=dark] .colab-df-convert:hover {\n",
              "      background-color: #434B5C;\n",
              "      box-shadow: 0px 1px 3px 1px rgba(0, 0, 0, 0.15);\n",
              "      filter: drop-shadow(0px 1px 2px rgba(0, 0, 0, 0.3));\n",
              "      fill: #FFFFFF;\n",
              "    }\n",
              "  </style>\n",
              "\n",
              "      <script>\n",
              "        const buttonEl =\n",
              "          document.querySelector('#df-f82c3219-d3ce-4845-94ff-548f93383049 button.colab-df-convert');\n",
              "        buttonEl.style.display =\n",
              "          google.colab.kernel.accessAllowed ? 'block' : 'none';\n",
              "\n",
              "        async function convertToInteractive(key) {\n",
              "          const element = document.querySelector('#df-f82c3219-d3ce-4845-94ff-548f93383049');\n",
              "          const dataTable =\n",
              "            await google.colab.kernel.invokeFunction('convertToInteractive',\n",
              "                                                     [key], {});\n",
              "          if (!dataTable) return;\n",
              "\n",
              "          const docLinkHtml = 'Like what you see? Visit the ' +\n",
              "            '<a target=\"_blank\" href=https://colab.research.google.com/notebooks/data_table.ipynb>data table notebook</a>'\n",
              "            + ' to learn more about interactive tables.';\n",
              "          element.innerHTML = '';\n",
              "          dataTable['output_type'] = 'display_data';\n",
              "          await google.colab.output.renderOutput(dataTable, element);\n",
              "          const docLink = document.createElement('div');\n",
              "          docLink.innerHTML = docLinkHtml;\n",
              "          element.appendChild(docLink);\n",
              "        }\n",
              "      </script>\n",
              "    </div>\n",
              "  </div>\n",
              "  "
            ]
          },
          "metadata": {},
          "execution_count": 4
        }
      ]
    },
    {
      "cell_type": "markdown",
      "source": [
        "\n",
        "\n",
        "*   After loading the dataset, by using **head() and tail()** we see a glimpse of the first and last few samples of the data.\n",
        "\n",
        "\n"
      ],
      "metadata": {
        "id": "RANHjKnEvhBp"
      }
    },
    {
      "cell_type": "markdown",
      "source": [
        "#**Data preprocessing**\n",
        "\n",
        "*   In this section we will be looking for the **noise** in the dataset such as any missing values or null values are present in the datset.\n",
        "*   If there is such any noise in the dataset we will be fixing those issues according to the convinient.\n",
        "\n"
      ],
      "metadata": {
        "id": "mkUK_eF6wfm1"
      }
    },
    {
      "cell_type": "code",
      "source": [
        "#Checking missing values in the dataset\n",
        "car.isnull().sum()"
      ],
      "metadata": {
        "colab": {
          "base_uri": "https://localhost:8080/"
        },
        "id": "QhxMLBfiwDGq",
        "outputId": "043b8174-0fdc-4c30-d34d-b6767f64bb4f"
      },
      "execution_count": null,
      "outputs": [
        {
          "output_type": "execute_result",
          "data": {
            "text/plain": [
              "Buying Price     0\n",
              "Maintenance      0\n",
              "Doors            0\n",
              "Persons          0\n",
              "Lug_boot         0\n",
              "Safety           0\n",
              "Acceptability    0\n",
              "dtype: int64"
            ]
          },
          "metadata": {},
          "execution_count": 5
        }
      ]
    },
    {
      "cell_type": "markdown",
      "source": [
        "\n",
        "\n",
        "*   We are using **isnull().sum()** for checking the missing values in the dataset.\n",
        "*   As, it can be seen clearly from above form every attributes the sum of null is '0'. So, that indicates there is no missing value present in any columns.\n",
        "\n",
        "*   So, dataset is in good state for further operation.\n",
        "\n",
        "\n",
        "\n",
        "\n"
      ],
      "metadata": {
        "id": "0It7dg-GxWx6"
      }
    },
    {
      "cell_type": "markdown",
      "source": [
        "#**Exploratory Data Analysis (EDA)**\n",
        "\n",
        "*   In this section, we will be discovering the dataset in depth. Also observe each and every attribures of the dataset.\n",
        "*   We will find the categories present for each attribute, exploring their nature.\n",
        "\n",
        "*   We will be also trying to distinguish the feature attributes and target attribute for classification model building.\n",
        "*   If necessary, we will try to manipulate the data for further operation.\n",
        "\n",
        "\n",
        "\n"
      ],
      "metadata": {
        "id": "DdEGfpsSyPCQ"
      }
    },
    {
      "cell_type": "code",
      "source": [
        "#for exploring all the attributes of the dataset\n",
        "car.keys()"
      ],
      "metadata": {
        "colab": {
          "base_uri": "https://localhost:8080/"
        },
        "id": "Y4QmIeLPyMui",
        "outputId": "9237eb40-b435-4101-8adf-04c618bccdd4"
      },
      "execution_count": null,
      "outputs": [
        {
          "output_type": "execute_result",
          "data": {
            "text/plain": [
              "Index(['Buying Price', 'Maintenance', 'Doors', 'Persons', 'Lug_boot', 'Safety',\n",
              "       'Acceptability'],\n",
              "      dtype='object')"
            ]
          },
          "metadata": {},
          "execution_count": 6
        }
      ]
    },
    {
      "cell_type": "markdown",
      "source": [
        "\n",
        "\n",
        "*   So, there are 7 attributes present in the dataset.\n",
        "\n",
        "\n"
      ],
      "metadata": {
        "id": "7PFTQq5y0TK0"
      }
    },
    {
      "cell_type": "code",
      "source": [
        "#printing the information of car dataset\n",
        "print(car.info)"
      ],
      "metadata": {
        "colab": {
          "base_uri": "https://localhost:8080/"
        },
        "id": "JeV_GHxD0rjb",
        "outputId": "0378b0fe-4ac7-43c7-9e97-e7ac34fad7c0"
      },
      "execution_count": null,
      "outputs": [
        {
          "output_type": "stream",
          "name": "stdout",
          "text": [
            "<bound method DataFrame.info of      Buying Price Maintenance  Doors Persons Lug_boot Safety Acceptability\n",
            "0           vhigh       vhigh      2       2    small    low         unacc\n",
            "1           vhigh       vhigh      2       2    small    med         unacc\n",
            "2           vhigh       vhigh      2       2    small   high         unacc\n",
            "3           vhigh       vhigh      2       2      med    low         unacc\n",
            "4           vhigh       vhigh      2       2      med    med         unacc\n",
            "...           ...         ...    ...     ...      ...    ...           ...\n",
            "1723          low         low  5more    more      med    med          good\n",
            "1724          low         low  5more    more      med   high         vgood\n",
            "1725          low         low  5more    more      big    low         unacc\n",
            "1726          low         low  5more    more      big    med          good\n",
            "1727          low         low  5more    more      big   high         vgood\n",
            "\n",
            "[1728 rows x 7 columns]>\n"
          ]
        }
      ]
    },
    {
      "cell_type": "markdown",
      "source": [
        "\n",
        "\n",
        "*   By observing the information of the whole datset it is clear that there are 1727 instances and 7 attribures.\n",
        "*   Every attributes conatain different categories of data.\n",
        "\n"
      ],
      "metadata": {
        "id": "QaBDV9eX02ow"
      }
    },
    {
      "cell_type": "code",
      "source": [
        "# Renaming the colums according to the convinient\n",
        "col_names = ['buying_price', 'maintenance', 'doors', 'persons', 'lug_boot', 'safety', 'acceptability']\n",
        "\n",
        "car.columns = col_names\n",
        "col_names"
      ],
      "metadata": {
        "colab": {
          "base_uri": "https://localhost:8080/"
        },
        "id": "VCt4q4Ht1SHc",
        "outputId": "0e5c9d83-f86e-4107-a112-4c188634b446"
      },
      "execution_count": null,
      "outputs": [
        {
          "output_type": "execute_result",
          "data": {
            "text/plain": [
              "['buying_price',\n",
              " 'maintenance',\n",
              " 'doors',\n",
              " 'persons',\n",
              " 'lug_boot',\n",
              " 'safety',\n",
              " 'acceptability']"
            ]
          },
          "metadata": {},
          "execution_count": 8
        }
      ]
    },
    {
      "cell_type": "code",
      "source": [
        "car.head()"
      ],
      "metadata": {
        "colab": {
          "base_uri": "https://localhost:8080/",
          "height": 206
        },
        "id": "JW4U9ffx10ou",
        "outputId": "99bbe85b-2719-46b1-be42-93c41ea021ee"
      },
      "execution_count": null,
      "outputs": [
        {
          "output_type": "execute_result",
          "data": {
            "text/plain": [
              "  buying_price maintenance doors persons lug_boot safety acceptability\n",
              "0        vhigh       vhigh     2       2    small    low         unacc\n",
              "1        vhigh       vhigh     2       2    small    med         unacc\n",
              "2        vhigh       vhigh     2       2    small   high         unacc\n",
              "3        vhigh       vhigh     2       2      med    low         unacc\n",
              "4        vhigh       vhigh     2       2      med    med         unacc"
            ],
            "text/html": [
              "\n",
              "  <div id=\"df-78a5b2d9-563c-4a1f-ab2e-85308790a23d\">\n",
              "    <div class=\"colab-df-container\">\n",
              "      <div>\n",
              "<style scoped>\n",
              "    .dataframe tbody tr th:only-of-type {\n",
              "        vertical-align: middle;\n",
              "    }\n",
              "\n",
              "    .dataframe tbody tr th {\n",
              "        vertical-align: top;\n",
              "    }\n",
              "\n",
              "    .dataframe thead th {\n",
              "        text-align: right;\n",
              "    }\n",
              "</style>\n",
              "<table border=\"1\" class=\"dataframe\">\n",
              "  <thead>\n",
              "    <tr style=\"text-align: right;\">\n",
              "      <th></th>\n",
              "      <th>buying_price</th>\n",
              "      <th>maintenance</th>\n",
              "      <th>doors</th>\n",
              "      <th>persons</th>\n",
              "      <th>lug_boot</th>\n",
              "      <th>safety</th>\n",
              "      <th>acceptability</th>\n",
              "    </tr>\n",
              "  </thead>\n",
              "  <tbody>\n",
              "    <tr>\n",
              "      <th>0</th>\n",
              "      <td>vhigh</td>\n",
              "      <td>vhigh</td>\n",
              "      <td>2</td>\n",
              "      <td>2</td>\n",
              "      <td>small</td>\n",
              "      <td>low</td>\n",
              "      <td>unacc</td>\n",
              "    </tr>\n",
              "    <tr>\n",
              "      <th>1</th>\n",
              "      <td>vhigh</td>\n",
              "      <td>vhigh</td>\n",
              "      <td>2</td>\n",
              "      <td>2</td>\n",
              "      <td>small</td>\n",
              "      <td>med</td>\n",
              "      <td>unacc</td>\n",
              "    </tr>\n",
              "    <tr>\n",
              "      <th>2</th>\n",
              "      <td>vhigh</td>\n",
              "      <td>vhigh</td>\n",
              "      <td>2</td>\n",
              "      <td>2</td>\n",
              "      <td>small</td>\n",
              "      <td>high</td>\n",
              "      <td>unacc</td>\n",
              "    </tr>\n",
              "    <tr>\n",
              "      <th>3</th>\n",
              "      <td>vhigh</td>\n",
              "      <td>vhigh</td>\n",
              "      <td>2</td>\n",
              "      <td>2</td>\n",
              "      <td>med</td>\n",
              "      <td>low</td>\n",
              "      <td>unacc</td>\n",
              "    </tr>\n",
              "    <tr>\n",
              "      <th>4</th>\n",
              "      <td>vhigh</td>\n",
              "      <td>vhigh</td>\n",
              "      <td>2</td>\n",
              "      <td>2</td>\n",
              "      <td>med</td>\n",
              "      <td>med</td>\n",
              "      <td>unacc</td>\n",
              "    </tr>\n",
              "  </tbody>\n",
              "</table>\n",
              "</div>\n",
              "      <button class=\"colab-df-convert\" onclick=\"convertToInteractive('df-78a5b2d9-563c-4a1f-ab2e-85308790a23d')\"\n",
              "              title=\"Convert this dataframe to an interactive table.\"\n",
              "              style=\"display:none;\">\n",
              "        \n",
              "  <svg xmlns=\"http://www.w3.org/2000/svg\" height=\"24px\"viewBox=\"0 0 24 24\"\n",
              "       width=\"24px\">\n",
              "    <path d=\"M0 0h24v24H0V0z\" fill=\"none\"/>\n",
              "    <path d=\"M18.56 5.44l.94 2.06.94-2.06 2.06-.94-2.06-.94-.94-2.06-.94 2.06-2.06.94zm-11 1L8.5 8.5l.94-2.06 2.06-.94-2.06-.94L8.5 2.5l-.94 2.06-2.06.94zm10 10l.94 2.06.94-2.06 2.06-.94-2.06-.94-.94-2.06-.94 2.06-2.06.94z\"/><path d=\"M17.41 7.96l-1.37-1.37c-.4-.4-.92-.59-1.43-.59-.52 0-1.04.2-1.43.59L10.3 9.45l-7.72 7.72c-.78.78-.78 2.05 0 2.83L4 21.41c.39.39.9.59 1.41.59.51 0 1.02-.2 1.41-.59l7.78-7.78 2.81-2.81c.8-.78.8-2.07 0-2.86zM5.41 20L4 18.59l7.72-7.72 1.47 1.35L5.41 20z\"/>\n",
              "  </svg>\n",
              "      </button>\n",
              "      \n",
              "  <style>\n",
              "    .colab-df-container {\n",
              "      display:flex;\n",
              "      flex-wrap:wrap;\n",
              "      gap: 12px;\n",
              "    }\n",
              "\n",
              "    .colab-df-convert {\n",
              "      background-color: #E8F0FE;\n",
              "      border: none;\n",
              "      border-radius: 50%;\n",
              "      cursor: pointer;\n",
              "      display: none;\n",
              "      fill: #1967D2;\n",
              "      height: 32px;\n",
              "      padding: 0 0 0 0;\n",
              "      width: 32px;\n",
              "    }\n",
              "\n",
              "    .colab-df-convert:hover {\n",
              "      background-color: #E2EBFA;\n",
              "      box-shadow: 0px 1px 2px rgba(60, 64, 67, 0.3), 0px 1px 3px 1px rgba(60, 64, 67, 0.15);\n",
              "      fill: #174EA6;\n",
              "    }\n",
              "\n",
              "    [theme=dark] .colab-df-convert {\n",
              "      background-color: #3B4455;\n",
              "      fill: #D2E3FC;\n",
              "    }\n",
              "\n",
              "    [theme=dark] .colab-df-convert:hover {\n",
              "      background-color: #434B5C;\n",
              "      box-shadow: 0px 1px 3px 1px rgba(0, 0, 0, 0.15);\n",
              "      filter: drop-shadow(0px 1px 2px rgba(0, 0, 0, 0.3));\n",
              "      fill: #FFFFFF;\n",
              "    }\n",
              "  </style>\n",
              "\n",
              "      <script>\n",
              "        const buttonEl =\n",
              "          document.querySelector('#df-78a5b2d9-563c-4a1f-ab2e-85308790a23d button.colab-df-convert');\n",
              "        buttonEl.style.display =\n",
              "          google.colab.kernel.accessAllowed ? 'block' : 'none';\n",
              "\n",
              "        async function convertToInteractive(key) {\n",
              "          const element = document.querySelector('#df-78a5b2d9-563c-4a1f-ab2e-85308790a23d');\n",
              "          const dataTable =\n",
              "            await google.colab.kernel.invokeFunction('convertToInteractive',\n",
              "                                                     [key], {});\n",
              "          if (!dataTable) return;\n",
              "\n",
              "          const docLinkHtml = 'Like what you see? Visit the ' +\n",
              "            '<a target=\"_blank\" href=https://colab.research.google.com/notebooks/data_table.ipynb>data table notebook</a>'\n",
              "            + ' to learn more about interactive tables.';\n",
              "          element.innerHTML = '';\n",
              "          dataTable['output_type'] = 'display_data';\n",
              "          await google.colab.output.renderOutput(dataTable, element);\n",
              "          const docLink = document.createElement('div');\n",
              "          docLink.innerHTML = docLinkHtml;\n",
              "          element.appendChild(docLink);\n",
              "        }\n",
              "      </script>\n",
              "    </div>\n",
              "  </div>\n",
              "  "
            ]
          },
          "metadata": {},
          "execution_count": 9
        }
      ]
    },
    {
      "cell_type": "code",
      "source": [
        "for col in col_names:\n",
        "    print(car[col].value_counts())"
      ],
      "metadata": {
        "colab": {
          "base_uri": "https://localhost:8080/"
        },
        "id": "Bj5RNUZv15pe",
        "outputId": "40216a00-1df0-4982-90fc-c8e71b40163a"
      },
      "execution_count": null,
      "outputs": [
        {
          "output_type": "stream",
          "name": "stdout",
          "text": [
            "vhigh    432\n",
            "high     432\n",
            "med      432\n",
            "low      432\n",
            "Name: buying_price, dtype: int64\n",
            "vhigh    432\n",
            "high     432\n",
            "med      432\n",
            "low      432\n",
            "Name: maintenance, dtype: int64\n",
            "2        432\n",
            "3        432\n",
            "4        432\n",
            "5more    432\n",
            "Name: doors, dtype: int64\n",
            "2       576\n",
            "4       576\n",
            "more    576\n",
            "Name: persons, dtype: int64\n",
            "small    576\n",
            "med      576\n",
            "big      576\n",
            "Name: lug_boot, dtype: int64\n",
            "low     576\n",
            "med     576\n",
            "high    576\n",
            "Name: safety, dtype: int64\n",
            "unacc    1210\n",
            "acc       384\n",
            "good       69\n",
            "vgood      65\n",
            "Name: acceptability, dtype: int64\n"
          ]
        }
      ]
    },
    {
      "cell_type": "markdown",
      "source": [
        "\n",
        "\n",
        "*   From the above part we are seeing the depth information about the dataset. It is showing differnt attributes have their own different unique categories.\n",
        "*   First of all there is **Buying Price** of the car which has** 4 **different categories(vhigh means price is very high, there are 432 instances of it),(high for high price, there are 432 instances of it),(med means medium price range, there are 432 instances of it),(low simply means car price is low, there are 432 instances of it).\n",
        "\n",
        "*   Secondly, there **Maintenance** attribute which basically means after buying a car how much it will cost a person to maintain a car. Again there are different categories of values (vhigh means maintaining cost is very high, there are 432 instances of it),(high for high maintainance cost, there are 432 instances of it),(med means medium maintaining cost, there are 432 instances of it),(low simply means maintainance cost is less, there are 432 instances of it).\n",
        "*   After that, there is **Door** attribute which menas how many doors a car will have. Here also, different numbers of doors can be possible for cars. a car may caonatins 2 doors, 3 doors, 4 doors or there could be 5 doors or even more than that. Cars with 2 doors have 432 instances, cars with 3 doors have 432 instances, cars with 4 doors have 432 instances, cars with 5 or more doors have 432 instances.\n",
        "\n",
        "*   Next attribute is **persosns** which menas for how many persons a car can give space. There are also some categories which are car has space for 2 persons along with 576 instances, car can provide space for 4 persons along with 576 instances and last category is car has the space for more than 4 persons along with the same number of instances which was the number for 2 and 4 persons space.\n",
        "*   Comming to the another attribute which is **Lug Boot** of the car. This attribute basically means how much materials or items we can keep in the lug boot of a car which is usually situated at the back side of a car. Here are **3** caregories for lung boot. First one is small lug boot which menas there is not enough facilty to keep many items in the lug boot and this have 576 instances, then there is med that menas medium size lug boot which will allow car owner to place more items than to a small lung boot and the instances number is as same as the small lug boot. Finally there is big lug boot which will provide the luxury to keep many items in the lug boot of the car. Here the instance number is 576.\n",
        "\n",
        "*   There is another attribute named **safety**. This simply means how safe a car is, how preventive a car is from accident. Which is a very imporatnt attribute in the dataset. Safety has** 3 **categories. Low safety, med menas medium safety, high safety. Each of them conatins 576 instances.\n",
        "*   Finally there is a attribute named **acceptability**. This is basically the target or class attribute. This haa some categories in it. In terms of acceptability of a car based on the other giver feature attributes(buying_price, maintenance, doors, persons, lug_boot, safety) the acceptability can be classified as unacc(unacceptable), acc(acceptable), good, vgood(very good). These categories of acceptability have intance number respectively 1210, 384, 69, 69.\n",
        "\n",
        "***So, after analyzing the dataset and it's all attributes finally it is clear that we need to classify the acceptability of the car based on the other given feature attributes (buying_price, maintenance, doors, persons, lug_boot, safety).So, acceptability is the target or class attribute that we will nedd to classify.***\n",
        "\n",
        "\n",
        "\n",
        "\n",
        "\n",
        "\n",
        "\n"
      ],
      "metadata": {
        "id": "JvGuqZgq2AAz"
      }
    },
    {
      "cell_type": "markdown",
      "source": [
        "#**Graphical Visualization of the attributes of the datset**"
      ],
      "metadata": {
        "id": "sk3fbBBmZXJb"
      }
    },
    {
      "cell_type": "code",
      "source": [
        "# visualizing  the acceptability attribute and it's categories\n",
        "sns.countplot(x='acceptability', data=car)\n",
        "plt.title(\"Class attribute(acceptability) graphical visualization\");"
      ],
      "metadata": {
        "id": "pUOn5zGW5Gkz",
        "colab": {
          "base_uri": "https://localhost:8080/",
          "height": 295
        },
        "outputId": "fbad4dd0-8c1d-4fcd-e06c-92112f7b43eb"
      },
      "execution_count": null,
      "outputs": [
        {
          "output_type": "display_data",
          "data": {
            "text/plain": [
              "<Figure size 432x288 with 1 Axes>"
            ],
            "image/png": "[encoded data removed]"
          },
          "metadata": {
            "needs_background": "light"
          }
        }
      ]
    },
    {
      "cell_type": "code",
      "source": [
        "# visualizing  the buying price attribute and it's categories\n",
        "sns.countplot(x='buying_price', data=car)\n",
        "plt.title(\"Buying Price attribute graphical visualization\");"
      ],
      "metadata": {
        "colab": {
          "base_uri": "https://localhost:8080/",
          "height": 296
        },
        "id": "kgN-8jx2aBHb",
        "outputId": "1188e3e4-4e56-4ead-e531-790c2d5318bf"
      },
      "execution_count": null,
      "outputs": [
        {
          "output_type": "display_data",
          "data": {
            "text/plain": [
              "<Figure size 432x288 with 1 Axes>"
            ],
            "image/png": "[encoded data removed]"
          },
          "metadata": {
            "needs_background": "light"
          }
        }
      ]
    },
    {
      "cell_type": "code",
      "source": [
        "# visualizing  the maintainance attribute and it's categories\n",
        "sns.countplot(x='maintenance', data=car)\n",
        "plt.title(\"Maintainance attribute graphical visualization\");"
      ],
      "metadata": {
        "colab": {
          "base_uri": "https://localhost:8080/",
          "height": 295
        },
        "id": "X9LorumAaRuT",
        "outputId": "b9c45abd-d482-4d95-8ff0-9dafb382f467"
      },
      "execution_count": null,
      "outputs": [
        {
          "output_type": "display_data",
          "data": {
            "text/plain": [
              "<Figure size 432x288 with 1 Axes>"
            ],
            "image/png": "[encoded data removed]"
          },
          "metadata": {
            "needs_background": "light"
          }
        }
      ]
    },
    {
      "cell_type": "code",
      "source": [
        "# visualizing  the doors attribute and it's categories\n",
        "sns.countplot(x='doors', data=car)\n",
        "plt.title(\"Doors attribute graphical visualization\");"
      ],
      "metadata": {
        "colab": {
          "base_uri": "https://localhost:8080/",
          "height": 295
        },
        "id": "_O9p6gGeamaz",
        "outputId": "4915d5d3-6b2e-4632-c566-f98d2faf8fb0"
      },
      "execution_count": null,
      "outputs": [
        {
          "output_type": "display_data",
          "data": {
            "text/plain": [
              "<Figure size 432x288 with 1 Axes>"
            ],
            "image/png": "[encoded data removed]"
          },
          "metadata": {
            "needs_background": "light"
          }
        }
      ]
    },
    {
      "cell_type": "code",
      "source": [
        "# visualizing  the persons attribute and it's categories\n",
        "sns.countplot(x='persons', data=car)\n",
        "plt.title(\" Persons attribute graphical visualization\");"
      ],
      "metadata": {
        "colab": {
          "base_uri": "https://localhost:8080/",
          "height": 295
        },
        "id": "xAAF8mgPa4ND",
        "outputId": "672f925b-9a6e-4af6-a323-85cce322184f"
      },
      "execution_count": null,
      "outputs": [
        {
          "output_type": "display_data",
          "data": {
            "text/plain": [
              "<Figure size 432x288 with 1 Axes>"
            ],
            "image/png": "[encoded data removed]"
          },
          "metadata": {
            "needs_background": "light"
          }
        }
      ]
    },
    {
      "cell_type": "code",
      "source": [
        "# visualizing  the lung boot attribute and it's categories\n",
        "sns.countplot(x='lug_boot', data=car)\n",
        "plt.title(\"Lug-Boot attribute graphical visualization\");"
      ],
      "metadata": {
        "colab": {
          "base_uri": "https://localhost:8080/",
          "height": 296
        },
        "id": "ZNl4uovAbD8k",
        "outputId": "a3399f17-32ff-4b11-d1d2-429dd6f20a20"
      },
      "execution_count": null,
      "outputs": [
        {
          "output_type": "display_data",
          "data": {
            "text/plain": [
              "<Figure size 432x288 with 1 Axes>"
            ],
            "image/png": "[encoded data removed]"
          },
          "metadata": {
            "needs_background": "light"
          }
        }
      ]
    },
    {
      "cell_type": "code",
      "source": [
        "# visualizing  the safety attribute and it's categories\n",
        "sns.countplot(x='safety', data=car)\n",
        "plt.title(\"Safety attribute graphical visualization\");"
      ],
      "metadata": {
        "colab": {
          "base_uri": "https://localhost:8080/",
          "height": 295
        },
        "id": "_YlctDwBbUHs",
        "outputId": "2b5309ce-f422-404f-d04a-c3b154ea6ae0"
      },
      "execution_count": null,
      "outputs": [
        {
          "output_type": "display_data",
          "data": {
            "text/plain": [
              "<Figure size 432x288 with 1 Axes>"
            ],
            "image/png": "[encoded data removed]"
          },
          "metadata": {
            "needs_background": "light"
          }
        }
      ]
    },
    {
      "cell_type": "markdown",
      "source": [
        "#**Separating the data set into Feature attributes and target attributes**"
      ],
      "metadata": {
        "id": "dHlXmv35c7lj"
      }
    },
    {
      "cell_type": "code",
      "source": [
        "feature = car.drop(['acceptability'], axis=1)\n",
        "\n",
        "target = car['acceptability']"
      ],
      "metadata": {
        "id": "iEhmJb4fcBzT"
      },
      "execution_count": null,
      "outputs": []
    },
    {
      "cell_type": "markdown",
      "source": [
        "\n",
        "\n",
        "*   Here, we are separating the **feature attributes(feature matrix**) from the **target** or class attribute 'acceptability'.\n",
        "*   So, that later on we can can classify the target attribute based on the data of feature attributes.\n",
        "\n"
      ],
      "metadata": {
        "id": "QPUg9SFWdNfT"
      }
    },
    {
      "cell_type": "code",
      "source": [
        "feature.head()"
      ],
      "metadata": {
        "colab": {
          "base_uri": "https://localhost:8080/",
          "height": 206
        },
        "id": "7pPfBHF6dzfN",
        "outputId": "f9db5ec9-c98b-47a3-fa59-996cc83d33c4"
      },
      "execution_count": null,
      "outputs": [
        {
          "output_type": "execute_result",
          "data": {
            "text/plain": [
              "  buying_price maintenance doors persons lug_boot safety\n",
              "0        vhigh       vhigh     2       2    small    low\n",
              "1        vhigh       vhigh     2       2    small    med\n",
              "2        vhigh       vhigh     2       2    small   high\n",
              "3        vhigh       vhigh     2       2      med    low\n",
              "4        vhigh       vhigh     2       2      med    med"
            ],
            "text/html": [
              "\n",
              "  <div id=\"df-2532758c-7544-4afa-b920-4bbe070d38ed\">\n",
              "    <div class=\"colab-df-container\">\n",
              "      <div>\n",
              "<style scoped>\n",
              "    .dataframe tbody tr th:only-of-type {\n",
              "        vertical-align: middle;\n",
              "    }\n",
              "\n",
              "    .dataframe tbody tr th {\n",
              "        vertical-align: top;\n",
              "    }\n",
              "\n",
              "    .dataframe thead th {\n",
              "        text-align: right;\n",
              "    }\n",
              "</style>\n",
              "<table border=\"1\" class=\"dataframe\">\n",
              "  <thead>\n",
              "    <tr style=\"text-align: right;\">\n",
              "      <th></th>\n",
              "      <th>buying_price</th>\n",
              "      <th>maintenance</th>\n",
              "      <th>doors</th>\n",
              "      <th>persons</th>\n",
              "      <th>lug_boot</th>\n",
              "      <th>safety</th>\n",
              "    </tr>\n",
              "  </thead>\n",
              "  <tbody>\n",
              "    <tr>\n",
              "      <th>0</th>\n",
              "      <td>vhigh</td>\n",
              "      <td>vhigh</td>\n",
              "      <td>2</td>\n",
              "      <td>2</td>\n",
              "      <td>small</td>\n",
              "      <td>low</td>\n",
              "    </tr>\n",
              "    <tr>\n",
              "      <th>1</th>\n",
              "      <td>vhigh</td>\n",
              "      <td>vhigh</td>\n",
              "      <td>2</td>\n",
              "      <td>2</td>\n",
              "      <td>small</td>\n",
              "      <td>med</td>\n",
              "    </tr>\n",
              "    <tr>\n",
              "      <th>2</th>\n",
              "      <td>vhigh</td>\n",
              "      <td>vhigh</td>\n",
              "      <td>2</td>\n",
              "      <td>2</td>\n",
              "      <td>small</td>\n",
              "      <td>high</td>\n",
              "    </tr>\n",
              "    <tr>\n",
              "      <th>3</th>\n",
              "      <td>vhigh</td>\n",
              "      <td>vhigh</td>\n",
              "      <td>2</td>\n",
              "      <td>2</td>\n",
              "      <td>med</td>\n",
              "      <td>low</td>\n",
              "    </tr>\n",
              "    <tr>\n",
              "      <th>4</th>\n",
              "      <td>vhigh</td>\n",
              "      <td>vhigh</td>\n",
              "      <td>2</td>\n",
              "      <td>2</td>\n",
              "      <td>med</td>\n",
              "      <td>med</td>\n",
              "    </tr>\n",
              "  </tbody>\n",
              "</table>\n",
              "</div>\n",
              "      <button class=\"colab-df-convert\" onclick=\"convertToInteractive('df-2532758c-7544-4afa-b920-4bbe070d38ed')\"\n",
              "              title=\"Convert this dataframe to an interactive table.\"\n",
              "              style=\"display:none;\">\n",
              "        \n",
              "  <svg xmlns=\"http://www.w3.org/2000/svg\" height=\"24px\"viewBox=\"0 0 24 24\"\n",
              "       width=\"24px\">\n",
              "    <path d=\"M0 0h24v24H0V0z\" fill=\"none\"/>\n",
              "    <path d=\"M18.56 5.44l.94 2.06.94-2.06 2.06-.94-2.06-.94-.94-2.06-.94 2.06-2.06.94zm-11 1L8.5 8.5l.94-2.06 2.06-.94-2.06-.94L8.5 2.5l-.94 2.06-2.06.94zm10 10l.94 2.06.94-2.06 2.06-.94-2.06-.94-.94-2.06-.94 2.06-2.06.94z\"/><path d=\"M17.41 7.96l-1.37-1.37c-.4-.4-.92-.59-1.43-.59-.52 0-1.04.2-1.43.59L10.3 9.45l-7.72 7.72c-.78.78-.78 2.05 0 2.83L4 21.41c.39.39.9.59 1.41.59.51 0 1.02-.2 1.41-.59l7.78-7.78 2.81-2.81c.8-.78.8-2.07 0-2.86zM5.41 20L4 18.59l7.72-7.72 1.47 1.35L5.41 20z\"/>\n",
              "  </svg>\n",
              "      </button>\n",
              "      \n",
              "  <style>\n",
              "    .colab-df-container {\n",
              "      display:flex;\n",
              "      flex-wrap:wrap;\n",
              "      gap: 12px;\n",
              "    }\n",
              "\n",
              "    .colab-df-convert {\n",
              "      background-color: #E8F0FE;\n",
              "      border: none;\n",
              "      border-radius: 50%;\n",
              "      cursor: pointer;\n",
              "      display: none;\n",
              "      fill: #1967D2;\n",
              "      height: 32px;\n",
              "      padding: 0 0 0 0;\n",
              "      width: 32px;\n",
              "    }\n",
              "\n",
              "    .colab-df-convert:hover {\n",
              "      background-color: #E2EBFA;\n",
              "      box-shadow: 0px 1px 2px rgba(60, 64, 67, 0.3), 0px 1px 3px 1px rgba(60, 64, 67, 0.15);\n",
              "      fill: #174EA6;\n",
              "    }\n",
              "\n",
              "    [theme=dark] .colab-df-convert {\n",
              "      background-color: #3B4455;\n",
              "      fill: #D2E3FC;\n",
              "    }\n",
              "\n",
              "    [theme=dark] .colab-df-convert:hover {\n",
              "      background-color: #434B5C;\n",
              "      box-shadow: 0px 1px 3px 1px rgba(0, 0, 0, 0.15);\n",
              "      filter: drop-shadow(0px 1px 2px rgba(0, 0, 0, 0.3));\n",
              "      fill: #FFFFFF;\n",
              "    }\n",
              "  </style>\n",
              "\n",
              "      <script>\n",
              "        const buttonEl =\n",
              "          document.querySelector('#df-2532758c-7544-4afa-b920-4bbe070d38ed button.colab-df-convert');\n",
              "        buttonEl.style.display =\n",
              "          google.colab.kernel.accessAllowed ? 'block' : 'none';\n",
              "\n",
              "        async function convertToInteractive(key) {\n",
              "          const element = document.querySelector('#df-2532758c-7544-4afa-b920-4bbe070d38ed');\n",
              "          const dataTable =\n",
              "            await google.colab.kernel.invokeFunction('convertToInteractive',\n",
              "                                                     [key], {});\n",
              "          if (!dataTable) return;\n",
              "\n",
              "          const docLinkHtml = 'Like what you see? Visit the ' +\n",
              "            '<a target=\"_blank\" href=https://colab.research.google.com/notebooks/data_table.ipynb>data table notebook</a>'\n",
              "            + ' to learn more about interactive tables.';\n",
              "          element.innerHTML = '';\n",
              "          dataTable['output_type'] = 'display_data';\n",
              "          await google.colab.output.renderOutput(dataTable, element);\n",
              "          const docLink = document.createElement('div');\n",
              "          docLink.innerHTML = docLinkHtml;\n",
              "          element.appendChild(docLink);\n",
              "        }\n",
              "      </script>\n",
              "    </div>\n",
              "  </div>\n",
              "  "
            ]
          },
          "metadata": {},
          "execution_count": 19
        }
      ]
    },
    {
      "cell_type": "markdown",
      "source": [
        "\n",
        "\n",
        "*   Here are the separated feature attributes dataset or we can call the **feature matrix**. \n"
      ],
      "metadata": {
        "id": "fa8ooE2Ud73z"
      }
    },
    {
      "cell_type": "code",
      "source": [
        "target.tail()"
      ],
      "metadata": {
        "colab": {
          "base_uri": "https://localhost:8080/"
        },
        "id": "5B0oGZ3FeF8r",
        "outputId": "1a5c6f28-62bc-4b6e-ca89-34ca348d620d"
      },
      "execution_count": null,
      "outputs": [
        {
          "output_type": "execute_result",
          "data": {
            "text/plain": [
              "1723     good\n",
              "1724    vgood\n",
              "1725    unacc\n",
              "1726     good\n",
              "1727    vgood\n",
              "Name: acceptability, dtype: object"
            ]
          },
          "metadata": {},
          "execution_count": 20
        }
      ]
    },
    {
      "cell_type": "markdown",
      "source": [
        "\n",
        "\n",
        "*   Here is the separated target attributes along with it's differnt classes.\n",
        "\n",
        "\n"
      ],
      "metadata": {
        "id": "_HPKZsNNeZf7"
      }
    },
    {
      "cell_type": "markdown",
      "source": [
        "#**Feature Engineering(Selection of the best possible feature attributes to classify the target attribute.)**"
      ],
      "metadata": {
        "id": "0cCBOZKcfHqK"
      }
    },
    {
      "cell_type": "markdown",
      "source": [
        "\n",
        "\n",
        "*   In this section, we will be analyzing the feature attributes along with the target attribute in such a way that so that we can identify, which feature has the more **impact** on the target attribute in terms of classify more accurately.\n",
        "*   With the analyzing and visualization we will be selecting the features for the final model building.\n",
        "\n",
        "\n",
        "*   Since, the dataset conatains more categorical values it will be better to analyze and visualize the dataset with **stripplot** as stripplot is handy for visualizing categorical data.\n",
        "\n",
        "\n",
        "\n"
      ],
      "metadata": {
        "id": "SWeaV-AmfbBc"
      }
    },
    {
      "cell_type": "code",
      "source": [
        "#visualyzing and analyzing the impact of buying price on acceptability\n",
        "sns.stripplot(x='buying_price', y='acceptability', data=car)\n",
        "plt.title(\"Stripplot based on 'car' dataset\");"
      ],
      "metadata": {
        "colab": {
          "base_uri": "https://localhost:8080/",
          "height": 296
        },
        "id": "4jg4I37jesfD",
        "outputId": "66114a2a-7879-4a40-a488-9a0ef23e721a"
      },
      "execution_count": null,
      "outputs": [
        {
          "output_type": "display_data",
          "data": {
            "text/plain": [
              "<Figure size 432x288 with 1 Axes>"
            ],
            "image/png": "[encoded data removed]"
          },
          "metadata": {
            "needs_background": "light"
          }
        }
      ]
    },
    {
      "cell_type": "markdown",
      "source": [
        "Here we can see that, when the buying price is **very high** the acceptability of a car is **unacceptable**. Then a car is unacepatble as well as acceptable when the buying price is high. But, in terms of meduium and low buying price a car is most likely acceptable that menas vgood class as well as acceptable which indicates good and sometimes unacceptable. So, oveall scenario indicates that the buying price has a good impact on acceptability."
      ],
      "metadata": {
        "id": "GFHNeJT29KUX"
      }
    },
    {
      "cell_type": "code",
      "source": [
        "#visualyzing and analyzing the impact of maitainance cost on acceptability\n",
        "sns.stripplot(x='maintenance', y='acceptability', data=car)\n",
        "plt.title(\"Stripplot based on 'car' dataset\");"
      ],
      "metadata": {
        "colab": {
          "base_uri": "https://localhost:8080/",
          "height": 295
        },
        "id": "uL_mzXyD-M1m",
        "outputId": "b978bf23-43d4-47ef-d9e9-c441218367dd"
      },
      "execution_count": null,
      "outputs": [
        {
          "output_type": "display_data",
          "data": {
            "text/plain": [
              "<Figure size 432x288 with 1 Axes>"
            ],
            "image/png": "[encoded data removed]"
          },
          "metadata": {
            "needs_background": "light"
          }
        }
      ]
    },
    {
      "cell_type": "markdown",
      "source": [
        "Here, when the maintainance cost is **very high** the car seems to be **unacceptable**. Not even very good or good. But when the maitainance is high the car sometimes very good for acceptable but not regularly acceptable. Then, when it comes to medium and low maintainance cost a car seems to be very mush acceptable regularly acceptable. Even unacceptable which indicates it is based upon the choice of customer. Again, this maintainance feature looks like has a vital impact on the acceptability of a car."
      ],
      "metadata": {
        "id": "N5eD2_hA-bOm"
      }
    },
    {
      "cell_type": "code",
      "source": [
        "#visualyzing and analyzing the impact of number of doors on acceptability\n",
        "sns.stripplot(x='doors', y='acceptability', data=car)\n",
        "plt.title(\"Stripplot based on 'car' dataset\");"
      ],
      "metadata": {
        "colab": {
          "base_uri": "https://localhost:8080/",
          "height": 295
        },
        "id": "tq51R_YL_Xy2",
        "outputId": "7c5d45b2-2858-4f04-c9d6-41434c5a3a3c"
      },
      "execution_count": null,
      "outputs": [
        {
          "output_type": "display_data",
          "data": {
            "text/plain": [
              "<Figure size 432x288 with 1 Axes>"
            ],
            "image/png": "[encoded data removed]"
          },
          "metadata": {
            "needs_background": "light"
          }
        }
      ]
    },
    {
      "cell_type": "markdown",
      "source": [
        "Here, we can see that for every categories of doors, a car is unacceptable, acceptable at the same time in almost **equal rate**. So, that's not giving us a clear picture that the door numbers of car really have a impact on acceptability."
      ],
      "metadata": {
        "id": "uLzhT9-c_oy_"
      }
    },
    {
      "cell_type": "code",
      "source": [
        "#visualyzing and analyzing the impact of persons space in a car on acceptability\n",
        "sns.stripplot(x='persons', y='acceptability', data=car)\n",
        "plt.title(\"Stripplot based on 'car' dataset\");"
      ],
      "metadata": {
        "colab": {
          "base_uri": "https://localhost:8080/",
          "height": 295
        },
        "id": "k3JdgbOwAHqX",
        "outputId": "93869bb4-c19e-41c5-dde0-5fd235add21a"
      },
      "execution_count": null,
      "outputs": [
        {
          "output_type": "display_data",
          "data": {
            "text/plain": [
              "<Figure size 432x288 with 1 Axes>"
            ],
            "image/png": "[encoded data removed]"
          },
          "metadata": {
            "needs_background": "light"
          }
        }
      ]
    },
    {
      "cell_type": "markdown",
      "source": [
        "Here, we can clearly see that only 2 persosns containing car is **directly unacceptable** and there is no other option. But when it come to a car which can give space for 4 persons or more persons the car looks like acceptable in a good rate. Again unacceptability at this condition depends on the choice of customer. So, this feature has great impact on acceptability."
      ],
      "metadata": {
        "id": "gDPQbgj-AfAA"
      }
    },
    {
      "cell_type": "code",
      "source": [
        "#visualyzing and analyzing the impact of lug boot on acceptability\n",
        "sns.stripplot(x='lug_boot', y='acceptability', data=car)\n",
        "plt.title(\"Stripplot based on 'car' dataset\");"
      ],
      "metadata": {
        "colab": {
          "base_uri": "https://localhost:8080/",
          "height": 296
        },
        "id": "K1wFjmhqA8Xe",
        "outputId": "f3b8561d-2b24-442b-946e-5e492f0df133"
      },
      "execution_count": null,
      "outputs": [
        {
          "output_type": "display_data",
          "data": {
            "text/plain": [
              "<Figure size 432x288 with 1 Axes>"
            ],
            "image/png": "[encoded data removed]"
          },
          "metadata": {
            "needs_background": "light"
          }
        }
      ]
    },
    {
      "cell_type": "markdown",
      "source": [
        "In terms of lug boot, when lug boot size is small the car acceptability shows unacceptable but at the same time shows  good. That is kind of contradiction. But it is natural to see that when lug boot size is medium or big a car is strongly acceptable and other options are also avaialbale. This feature has not that much impact on acceptability but sometimes it can make the differences of choice."
      ],
      "metadata": {
        "id": "-gx8goGQBK7O"
      }
    },
    {
      "cell_type": "code",
      "source": [
        "#visualyzing and analyzing the impact of safety on acceptability\n",
        "sns.stripplot(x='safety', y='acceptability', data=car)\n",
        "plt.title(\"Stripplot based on 'car' dataset\");"
      ],
      "metadata": {
        "colab": {
          "base_uri": "https://localhost:8080/",
          "height": 295
        },
        "id": "9koMUJEKCPqP",
        "outputId": "e87432e1-94a5-45b0-f193-b9f9b235f1e3"
      },
      "execution_count": null,
      "outputs": [
        {
          "output_type": "display_data",
          "data": {
            "text/plain": [
              "<Figure size 432x288 with 1 Axes>"
            ],
            "image/png": "[encoded data removed]"
          },
          "metadata": {
            "needs_background": "light"
          }
        }
      ]
    },
    {
      "cell_type": "markdown",
      "source": [
        "This safety feature has the **most impact** on acceptability which is clearly visilble from the above strippllot. The plotting show that, when the safety of a car is **low the car is unacceptable** straigh away. Even medium level of safety of a car is not very good. Only when the safety of a car is high only then a car is acceptable as well as good. Other two options acceptable and unacceptable even when the car has high safety is actually depends on the choice of the customer."
      ],
      "metadata": {
        "id": "p8BA0MadCYa9"
      }
    },
    {
      "cell_type": "markdown",
      "source": [
        "#**Overall Evaluation of all Feature Attributes and Selection of the Final Attributes for Model Buildig**"
      ],
      "metadata": {
        "id": "-YZmP9-2DNU3"
      }
    },
    {
      "cell_type": "markdown",
      "source": [
        "\n",
        "\n",
        "*   From the stripplot analysis and visualization the decision is made that the numbers of **doors** of a car does not have that much impact on the acceptability of a car.\n",
        "*   So, doors feature attribute will be **removed** from the feature matrix since, other feature attributes has good impact or minimal impact on the acceptability of a car those will remain.\n",
        "\n"
      ],
      "metadata": {
        "id": "n4wmURGMDdbI"
      }
    },
    {
      "cell_type": "code",
      "source": [
        "#dropping doors feature after feature selection\n",
        "feature = car.drop(['doors','acceptability'], axis=1)"
      ],
      "metadata": {
        "id": "75NKRPvzEJLP"
      },
      "execution_count": null,
      "outputs": []
    },
    {
      "cell_type": "code",
      "source": [
        "feature.head()"
      ],
      "metadata": {
        "colab": {
          "base_uri": "https://localhost:8080/",
          "height": 206
        },
        "id": "JAB8nJUYEYiH",
        "outputId": "9631720b-8d08-4a47-ad2c-f88f2f4c4b99"
      },
      "execution_count": null,
      "outputs": [
        {
          "output_type": "execute_result",
          "data": {
            "text/plain": [
              "  buying_price maintenance persons lug_boot safety\n",
              "0        vhigh       vhigh       2    small    low\n",
              "1        vhigh       vhigh       2    small    med\n",
              "2        vhigh       vhigh       2    small   high\n",
              "3        vhigh       vhigh       2      med    low\n",
              "4        vhigh       vhigh       2      med    med"
            ],
            "text/html": [
              "\n",
              "  <div id=\"df-a5010bf4-cfca-4284-b696-ffa432b8713a\">\n",
              "    <div class=\"colab-df-container\">\n",
              "      <div>\n",
              "<style scoped>\n",
              "    .dataframe tbody tr th:only-of-type {\n",
              "        vertical-align: middle;\n",
              "    }\n",
              "\n",
              "    .dataframe tbody tr th {\n",
              "        vertical-align: top;\n",
              "    }\n",
              "\n",
              "    .dataframe thead th {\n",
              "        text-align: right;\n",
              "    }\n",
              "</style>\n",
              "<table border=\"1\" class=\"dataframe\">\n",
              "  <thead>\n",
              "    <tr style=\"text-align: right;\">\n",
              "      <th></th>\n",
              "      <th>buying_price</th>\n",
              "      <th>maintenance</th>\n",
              "      <th>persons</th>\n",
              "      <th>lug_boot</th>\n",
              "      <th>safety</th>\n",
              "    </tr>\n",
              "  </thead>\n",
              "  <tbody>\n",
              "    <tr>\n",
              "      <th>0</th>\n",
              "      <td>vhigh</td>\n",
              "      <td>vhigh</td>\n",
              "      <td>2</td>\n",
              "      <td>small</td>\n",
              "      <td>low</td>\n",
              "    </tr>\n",
              "    <tr>\n",
              "      <th>1</th>\n",
              "      <td>vhigh</td>\n",
              "      <td>vhigh</td>\n",
              "      <td>2</td>\n",
              "      <td>small</td>\n",
              "      <td>med</td>\n",
              "    </tr>\n",
              "    <tr>\n",
              "      <th>2</th>\n",
              "      <td>vhigh</td>\n",
              "      <td>vhigh</td>\n",
              "      <td>2</td>\n",
              "      <td>small</td>\n",
              "      <td>high</td>\n",
              "    </tr>\n",
              "    <tr>\n",
              "      <th>3</th>\n",
              "      <td>vhigh</td>\n",
              "      <td>vhigh</td>\n",
              "      <td>2</td>\n",
              "      <td>med</td>\n",
              "      <td>low</td>\n",
              "    </tr>\n",
              "    <tr>\n",
              "      <th>4</th>\n",
              "      <td>vhigh</td>\n",
              "      <td>vhigh</td>\n",
              "      <td>2</td>\n",
              "      <td>med</td>\n",
              "      <td>med</td>\n",
              "    </tr>\n",
              "  </tbody>\n",
              "</table>\n",
              "</div>\n",
              "      <button class=\"colab-df-convert\" onclick=\"convertToInteractive('df-a5010bf4-cfca-4284-b696-ffa432b8713a')\"\n",
              "              title=\"Convert this dataframe to an interactive table.\"\n",
              "              style=\"display:none;\">\n",
              "        \n",
              "  <svg xmlns=\"http://www.w3.org/2000/svg\" height=\"24px\"viewBox=\"0 0 24 24\"\n",
              "       width=\"24px\">\n",
              "    <path d=\"M0 0h24v24H0V0z\" fill=\"none\"/>\n",
              "    <path d=\"M18.56 5.44l.94 2.06.94-2.06 2.06-.94-2.06-.94-.94-2.06-.94 2.06-2.06.94zm-11 1L8.5 8.5l.94-2.06 2.06-.94-2.06-.94L8.5 2.5l-.94 2.06-2.06.94zm10 10l.94 2.06.94-2.06 2.06-.94-2.06-.94-.94-2.06-.94 2.06-2.06.94z\"/><path d=\"M17.41 7.96l-1.37-1.37c-.4-.4-.92-.59-1.43-.59-.52 0-1.04.2-1.43.59L10.3 9.45l-7.72 7.72c-.78.78-.78 2.05 0 2.83L4 21.41c.39.39.9.59 1.41.59.51 0 1.02-.2 1.41-.59l7.78-7.78 2.81-2.81c.8-.78.8-2.07 0-2.86zM5.41 20L4 18.59l7.72-7.72 1.47 1.35L5.41 20z\"/>\n",
              "  </svg>\n",
              "      </button>\n",
              "      \n",
              "  <style>\n",
              "    .colab-df-container {\n",
              "      display:flex;\n",
              "      flex-wrap:wrap;\n",
              "      gap: 12px;\n",
              "    }\n",
              "\n",
              "    .colab-df-convert {\n",
              "      background-color: #E8F0FE;\n",
              "      border: none;\n",
              "      border-radius: 50%;\n",
              "      cursor: pointer;\n",
              "      display: none;\n",
              "      fill: #1967D2;\n",
              "      height: 32px;\n",
              "      padding: 0 0 0 0;\n",
              "      width: 32px;\n",
              "    }\n",
              "\n",
              "    .colab-df-convert:hover {\n",
              "      background-color: #E2EBFA;\n",
              "      box-shadow: 0px 1px 2px rgba(60, 64, 67, 0.3), 0px 1px 3px 1px rgba(60, 64, 67, 0.15);\n",
              "      fill: #174EA6;\n",
              "    }\n",
              "\n",
              "    [theme=dark] .colab-df-convert {\n",
              "      background-color: #3B4455;\n",
              "      fill: #D2E3FC;\n",
              "    }\n",
              "\n",
              "    [theme=dark] .colab-df-convert:hover {\n",
              "      background-color: #434B5C;\n",
              "      box-shadow: 0px 1px 3px 1px rgba(0, 0, 0, 0.15);\n",
              "      filter: drop-shadow(0px 1px 2px rgba(0, 0, 0, 0.3));\n",
              "      fill: #FFFFFF;\n",
              "    }\n",
              "  </style>\n",
              "\n",
              "      <script>\n",
              "        const buttonEl =\n",
              "          document.querySelector('#df-a5010bf4-cfca-4284-b696-ffa432b8713a button.colab-df-convert');\n",
              "        buttonEl.style.display =\n",
              "          google.colab.kernel.accessAllowed ? 'block' : 'none';\n",
              "\n",
              "        async function convertToInteractive(key) {\n",
              "          const element = document.querySelector('#df-a5010bf4-cfca-4284-b696-ffa432b8713a');\n",
              "          const dataTable =\n",
              "            await google.colab.kernel.invokeFunction('convertToInteractive',\n",
              "                                                     [key], {});\n",
              "          if (!dataTable) return;\n",
              "\n",
              "          const docLinkHtml = 'Like what you see? Visit the ' +\n",
              "            '<a target=\"_blank\" href=https://colab.research.google.com/notebooks/data_table.ipynb>data table notebook</a>'\n",
              "            + ' to learn more about interactive tables.';\n",
              "          element.innerHTML = '';\n",
              "          dataTable['output_type'] = 'display_data';\n",
              "          await google.colab.output.renderOutput(dataTable, element);\n",
              "          const docLink = document.createElement('div');\n",
              "          docLink.innerHTML = docLinkHtml;\n",
              "          element.appendChild(docLink);\n",
              "        }\n",
              "      </script>\n",
              "    </div>\n",
              "  </div>\n",
              "  "
            ]
          },
          "metadata": {},
          "execution_count": 28
        }
      ]
    },
    {
      "cell_type": "code",
      "source": [
        "target.tail()"
      ],
      "metadata": {
        "colab": {
          "base_uri": "https://localhost:8080/"
        },
        "id": "4QKHyI8REqwo",
        "outputId": "2c57be03-b7a8-485c-fb2b-7e81ae737987"
      },
      "execution_count": null,
      "outputs": [
        {
          "output_type": "execute_result",
          "data": {
            "text/plain": [
              "1723     good\n",
              "1724    vgood\n",
              "1725    unacc\n",
              "1726     good\n",
              "1727    vgood\n",
              "Name: acceptability, dtype: object"
            ]
          },
          "metadata": {},
          "execution_count": 29
        }
      ]
    },
    {
      "cell_type": "markdown",
      "source": [
        "#**Train Test Splitting**\n",
        "\n",
        "*   In this section we will be spliiting out main data set into **two** parts.\n",
        "*   We will separate majority percentage of data for **training** our model.\n",
        "\n",
        "\n",
        "*   Then we will separate the rest for **testing** our model.\n",
        "\n",
        "\n",
        "\n",
        "\n"
      ],
      "metadata": {
        "id": "wR6BUh9kE2lF"
      }
    },
    {
      "cell_type": "code",
      "source": [
        "from sklearn.model_selection import train_test_split"
      ],
      "metadata": {
        "id": "NrV_aH-bE7tn"
      },
      "execution_count": null,
      "outputs": []
    },
    {
      "cell_type": "code",
      "source": [
        "X_train, X_test, y_train, y_test = train_test_split(feature, \n",
        "                                                    target, \n",
        "                                                    test_size=0.30,\n",
        "                                                    random_state=24)\n",
        "\n",
        "X_train.shape, X_test.shape"
      ],
      "metadata": {
        "colab": {
          "base_uri": "https://localhost:8080/"
        },
        "id": "_POfNDkvFcnP",
        "outputId": "fea21c5d-1e34-4833-b3ec-0b1fff76e423"
      },
      "execution_count": null,
      "outputs": [
        {
          "output_type": "execute_result",
          "data": {
            "text/plain": [
              "((1209, 5), (519, 5))"
            ]
          },
          "metadata": {},
          "execution_count": 31
        }
      ]
    },
    {
      "cell_type": "markdown",
      "source": [
        "\n",
        "\n",
        "*   We have separated **70% **of our instances for training our model.\n",
        "*   And rest of the **30%** will be using for testing the model.\n",
        "\n",
        "\n",
        "*   For the 70% of training data we have got 1209 intances.\n",
        "*   For 30% of the test data we have got 519 instances.\n",
        "\n",
        "*   On both the occasion of training and testing set we have now **5** fetaure attributes since doors is no longer present in the feature matrix after feature selection.\n",
        "\n",
        "\n",
        "\n",
        "\n",
        "\n",
        "\n"
      ],
      "metadata": {
        "id": "0-SzNFKWFjU9"
      }
    },
    {
      "cell_type": "code",
      "source": [
        "y_train.shape, y_test.shape"
      ],
      "metadata": {
        "colab": {
          "base_uri": "https://localhost:8080/"
        },
        "id": "Gdt5X9NMHADP",
        "outputId": "9cf5515d-9ca0-4341-9cde-bfb97029345f"
      },
      "execution_count": null,
      "outputs": [
        {
          "output_type": "execute_result",
          "data": {
            "text/plain": [
              "((1209,), (519,))"
            ]
          },
          "metadata": {},
          "execution_count": 32
        }
      ]
    },
    {
      "cell_type": "markdown",
      "source": [
        "Here, the target atribute's shape after splitting is shown. Which basically shows that, 1209 intances for training traget attribute and 519 for testing purpose. It has only one column which is the target attribute column itself."
      ],
      "metadata": {
        "id": "EEv90772HNJY"
      }
    },
    {
      "cell_type": "markdown",
      "source": [
        "#**Bilding Classification Model for car Evaluatuion Dataset**"
      ],
      "metadata": {
        "id": "fZifl5gZH0NG"
      }
    },
    {
      "cell_type": "code",
      "source": [
        "pip install category_encoders"
      ],
      "metadata": {
        "id": "dTMIOp8MHon4"
      },
      "execution_count": null,
      "outputs": []
    },
    {
      "cell_type": "code",
      "source": [
        "import pandas.util.testing as tm"
      ],
      "metadata": {
        "id": "dJ3OXWCJIFa4"
      },
      "execution_count": null,
      "outputs": []
    },
    {
      "cell_type": "code",
      "source": [
        "# Encode Categorical\n",
        "import category_encoders as ce"
      ],
      "metadata": {
        "id": "4pfT0vxJII8A"
      },
      "execution_count": null,
      "outputs": []
    },
    {
      "cell_type": "code",
      "source": [
        "# encode variables with ordinal encoding\n",
        "encoder = ce.OrdinalEncoder(cols=['buying_price', 'maintenance', 'persons', 'lug_boot', 'safety'])\n",
        "\n",
        "X_train = encoder.fit_transform(X_train)\n",
        "X_test = encoder.transform(X_test)"
      ],
      "metadata": {
        "id": "VRlOFEgAIOaI"
      },
      "execution_count": null,
      "outputs": []
    },
    {
      "cell_type": "code",
      "source": [
        "X_train.head()"
      ],
      "metadata": {
        "colab": {
          "base_uri": "https://localhost:8080/",
          "height": 206
        },
        "id": "I2vPzVB-IWWf",
        "outputId": "b1aef86e-ce66-4350-e50d-ad7621d48ce6"
      },
      "execution_count": null,
      "outputs": [
        {
          "output_type": "execute_result",
          "data": {
            "text/plain": [
              "      buying_price  maintenance  persons  lug_boot  safety\n",
              "1667             1            1        1         1       1\n",
              "1654             1            1        2         2       2\n",
              "508              2            2        1         3       2\n",
              "202              3            3        3         3       2\n",
              "1493             1            3        2         2       1"
            ],
            "text/html": [
              "\n",
              "  <div id=\"df-94c9bc09-b2f7-4c00-8550-cb67b930f335\">\n",
              "    <div class=\"colab-df-container\">\n",
              "      <div>\n",
              "<style scoped>\n",
              "    .dataframe tbody tr th:only-of-type {\n",
              "        vertical-align: middle;\n",
              "    }\n",
              "\n",
              "    .dataframe tbody tr th {\n",
              "        vertical-align: top;\n",
              "    }\n",
              "\n",
              "    .dataframe thead th {\n",
              "        text-align: right;\n",
              "    }\n",
              "</style>\n",
              "<table border=\"1\" class=\"dataframe\">\n",
              "  <thead>\n",
              "    <tr style=\"text-align: right;\">\n",
              "      <th></th>\n",
              "      <th>buying_price</th>\n",
              "      <th>maintenance</th>\n",
              "      <th>persons</th>\n",
              "      <th>lug_boot</th>\n",
              "      <th>safety</th>\n",
              "    </tr>\n",
              "  </thead>\n",
              "  <tbody>\n",
              "    <tr>\n",
              "      <th>1667</th>\n",
              "      <td>1</td>\n",
              "      <td>1</td>\n",
              "      <td>1</td>\n",
              "      <td>1</td>\n",
              "      <td>1</td>\n",
              "    </tr>\n",
              "    <tr>\n",
              "      <th>1654</th>\n",
              "      <td>1</td>\n",
              "      <td>1</td>\n",
              "      <td>2</td>\n",
              "      <td>2</td>\n",
              "      <td>2</td>\n",
              "    </tr>\n",
              "    <tr>\n",
              "      <th>508</th>\n",
              "      <td>2</td>\n",
              "      <td>2</td>\n",
              "      <td>1</td>\n",
              "      <td>3</td>\n",
              "      <td>2</td>\n",
              "    </tr>\n",
              "    <tr>\n",
              "      <th>202</th>\n",
              "      <td>3</td>\n",
              "      <td>3</td>\n",
              "      <td>3</td>\n",
              "      <td>3</td>\n",
              "      <td>2</td>\n",
              "    </tr>\n",
              "    <tr>\n",
              "      <th>1493</th>\n",
              "      <td>1</td>\n",
              "      <td>3</td>\n",
              "      <td>2</td>\n",
              "      <td>2</td>\n",
              "      <td>1</td>\n",
              "    </tr>\n",
              "  </tbody>\n",
              "</table>\n",
              "</div>\n",
              "      <button class=\"colab-df-convert\" onclick=\"convertToInteractive('df-94c9bc09-b2f7-4c00-8550-cb67b930f335')\"\n",
              "              title=\"Convert this dataframe to an interactive table.\"\n",
              "              style=\"display:none;\">\n",
              "        \n",
              "  <svg xmlns=\"http://www.w3.org/2000/svg\" height=\"24px\"viewBox=\"0 0 24 24\"\n",
              "       width=\"24px\">\n",
              "    <path d=\"M0 0h24v24H0V0z\" fill=\"none\"/>\n",
              "    <path d=\"M18.56 5.44l.94 2.06.94-2.06 2.06-.94-2.06-.94-.94-2.06-.94 2.06-2.06.94zm-11 1L8.5 8.5l.94-2.06 2.06-.94-2.06-.94L8.5 2.5l-.94 2.06-2.06.94zm10 10l.94 2.06.94-2.06 2.06-.94-2.06-.94-.94-2.06-.94 2.06-2.06.94z\"/><path d=\"M17.41 7.96l-1.37-1.37c-.4-.4-.92-.59-1.43-.59-.52 0-1.04.2-1.43.59L10.3 9.45l-7.72 7.72c-.78.78-.78 2.05 0 2.83L4 21.41c.39.39.9.59 1.41.59.51 0 1.02-.2 1.41-.59l7.78-7.78 2.81-2.81c.8-.78.8-2.07 0-2.86zM5.41 20L4 18.59l7.72-7.72 1.47 1.35L5.41 20z\"/>\n",
              "  </svg>\n",
              "      </button>\n",
              "      \n",
              "  <style>\n",
              "    .colab-df-container {\n",
              "      display:flex;\n",
              "      flex-wrap:wrap;\n",
              "      gap: 12px;\n",
              "    }\n",
              "\n",
              "    .colab-df-convert {\n",
              "      background-color: #E8F0FE;\n",
              "      border: none;\n",
              "      border-radius: 50%;\n",
              "      cursor: pointer;\n",
              "      display: none;\n",
              "      fill: #1967D2;\n",
              "      height: 32px;\n",
              "      padding: 0 0 0 0;\n",
              "      width: 32px;\n",
              "    }\n",
              "\n",
              "    .colab-df-convert:hover {\n",
              "      background-color: #E2EBFA;\n",
              "      box-shadow: 0px 1px 2px rgba(60, 64, 67, 0.3), 0px 1px 3px 1px rgba(60, 64, 67, 0.15);\n",
              "      fill: #174EA6;\n",
              "    }\n",
              "\n",
              "    [theme=dark] .colab-df-convert {\n",
              "      background-color: #3B4455;\n",
              "      fill: #D2E3FC;\n",
              "    }\n",
              "\n",
              "    [theme=dark] .colab-df-convert:hover {\n",
              "      background-color: #434B5C;\n",
              "      box-shadow: 0px 1px 3px 1px rgba(0, 0, 0, 0.15);\n",
              "      filter: drop-shadow(0px 1px 2px rgba(0, 0, 0, 0.3));\n",
              "      fill: #FFFFFF;\n",
              "    }\n",
              "  </style>\n",
              "\n",
              "      <script>\n",
              "        const buttonEl =\n",
              "          document.querySelector('#df-94c9bc09-b2f7-4c00-8550-cb67b930f335 button.colab-df-convert');\n",
              "        buttonEl.style.display =\n",
              "          google.colab.kernel.accessAllowed ? 'block' : 'none';\n",
              "\n",
              "        async function convertToInteractive(key) {\n",
              "          const element = document.querySelector('#df-94c9bc09-b2f7-4c00-8550-cb67b930f335');\n",
              "          const dataTable =\n",
              "            await google.colab.kernel.invokeFunction('convertToInteractive',\n",
              "                                                     [key], {});\n",
              "          if (!dataTable) return;\n",
              "\n",
              "          const docLinkHtml = 'Like what you see? Visit the ' +\n",
              "            '<a target=\"_blank\" href=https://colab.research.google.com/notebooks/data_table.ipynb>data table notebook</a>'\n",
              "            + ' to learn more about interactive tables.';\n",
              "          element.innerHTML = '';\n",
              "          dataTable['output_type'] = 'display_data';\n",
              "          await google.colab.output.renderOutput(dataTable, element);\n",
              "          const docLink = document.createElement('div');\n",
              "          docLink.innerHTML = docLinkHtml;\n",
              "          element.appendChild(docLink);\n",
              "        }\n",
              "      </script>\n",
              "    </div>\n",
              "  </div>\n",
              "  "
            ]
          },
          "metadata": {},
          "execution_count": 37
        }
      ]
    },
    {
      "cell_type": "code",
      "source": [
        "X_test.head()"
      ],
      "metadata": {
        "colab": {
          "base_uri": "https://localhost:8080/",
          "height": 206
        },
        "id": "-fejNel_Ikrh",
        "outputId": "22c490ed-84e0-4580-e3db-2d7ef171e81b"
      },
      "execution_count": null,
      "outputs": [
        {
          "output_type": "execute_result",
          "data": {
            "text/plain": [
              "      buying_price  maintenance  persons  lug_boot  safety\n",
              "489              2            2        2         3       3\n",
              "408              3            1        2         3       3\n",
              "1226             4            1        3         1       1\n",
              "414              3            1        3         1       3\n",
              "788              2            1        2         3       1"
            ],
            "text/html": [
              "\n",
              "  <div id=\"df-8e6d009f-b459-486a-a626-b67f8ef635fe\">\n",
              "    <div class=\"colab-df-container\">\n",
              "      <div>\n",
              "<style scoped>\n",
              "    .dataframe tbody tr th:only-of-type {\n",
              "        vertical-align: middle;\n",
              "    }\n",
              "\n",
              "    .dataframe tbody tr th {\n",
              "        vertical-align: top;\n",
              "    }\n",
              "\n",
              "    .dataframe thead th {\n",
              "        text-align: right;\n",
              "    }\n",
              "</style>\n",
              "<table border=\"1\" class=\"dataframe\">\n",
              "  <thead>\n",
              "    <tr style=\"text-align: right;\">\n",
              "      <th></th>\n",
              "      <th>buying_price</th>\n",
              "      <th>maintenance</th>\n",
              "      <th>persons</th>\n",
              "      <th>lug_boot</th>\n",
              "      <th>safety</th>\n",
              "    </tr>\n",
              "  </thead>\n",
              "  <tbody>\n",
              "    <tr>\n",
              "      <th>489</th>\n",
              "      <td>2</td>\n",
              "      <td>2</td>\n",
              "      <td>2</td>\n",
              "      <td>3</td>\n",
              "      <td>3</td>\n",
              "    </tr>\n",
              "    <tr>\n",
              "      <th>408</th>\n",
              "      <td>3</td>\n",
              "      <td>1</td>\n",
              "      <td>2</td>\n",
              "      <td>3</td>\n",
              "      <td>3</td>\n",
              "    </tr>\n",
              "    <tr>\n",
              "      <th>1226</th>\n",
              "      <td>4</td>\n",
              "      <td>1</td>\n",
              "      <td>3</td>\n",
              "      <td>1</td>\n",
              "      <td>1</td>\n",
              "    </tr>\n",
              "    <tr>\n",
              "      <th>414</th>\n",
              "      <td>3</td>\n",
              "      <td>1</td>\n",
              "      <td>3</td>\n",
              "      <td>1</td>\n",
              "      <td>3</td>\n",
              "    </tr>\n",
              "    <tr>\n",
              "      <th>788</th>\n",
              "      <td>2</td>\n",
              "      <td>1</td>\n",
              "      <td>2</td>\n",
              "      <td>3</td>\n",
              "      <td>1</td>\n",
              "    </tr>\n",
              "  </tbody>\n",
              "</table>\n",
              "</div>\n",
              "      <button class=\"colab-df-convert\" onclick=\"convertToInteractive('df-8e6d009f-b459-486a-a626-b67f8ef635fe')\"\n",
              "              title=\"Convert this dataframe to an interactive table.\"\n",
              "              style=\"display:none;\">\n",
              "        \n",
              "  <svg xmlns=\"http://www.w3.org/2000/svg\" height=\"24px\"viewBox=\"0 0 24 24\"\n",
              "       width=\"24px\">\n",
              "    <path d=\"M0 0h24v24H0V0z\" fill=\"none\"/>\n",
              "    <path d=\"M18.56 5.44l.94 2.06.94-2.06 2.06-.94-2.06-.94-.94-2.06-.94 2.06-2.06.94zm-11 1L8.5 8.5l.94-2.06 2.06-.94-2.06-.94L8.5 2.5l-.94 2.06-2.06.94zm10 10l.94 2.06.94-2.06 2.06-.94-2.06-.94-.94-2.06-.94 2.06-2.06.94z\"/><path d=\"M17.41 7.96l-1.37-1.37c-.4-.4-.92-.59-1.43-.59-.52 0-1.04.2-1.43.59L10.3 9.45l-7.72 7.72c-.78.78-.78 2.05 0 2.83L4 21.41c.39.39.9.59 1.41.59.51 0 1.02-.2 1.41-.59l7.78-7.78 2.81-2.81c.8-.78.8-2.07 0-2.86zM5.41 20L4 18.59l7.72-7.72 1.47 1.35L5.41 20z\"/>\n",
              "  </svg>\n",
              "      </button>\n",
              "      \n",
              "  <style>\n",
              "    .colab-df-container {\n",
              "      display:flex;\n",
              "      flex-wrap:wrap;\n",
              "      gap: 12px;\n",
              "    }\n",
              "\n",
              "    .colab-df-convert {\n",
              "      background-color: #E8F0FE;\n",
              "      border: none;\n",
              "      border-radius: 50%;\n",
              "      cursor: pointer;\n",
              "      display: none;\n",
              "      fill: #1967D2;\n",
              "      height: 32px;\n",
              "      padding: 0 0 0 0;\n",
              "      width: 32px;\n",
              "    }\n",
              "\n",
              "    .colab-df-convert:hover {\n",
              "      background-color: #E2EBFA;\n",
              "      box-shadow: 0px 1px 2px rgba(60, 64, 67, 0.3), 0px 1px 3px 1px rgba(60, 64, 67, 0.15);\n",
              "      fill: #174EA6;\n",
              "    }\n",
              "\n",
              "    [theme=dark] .colab-df-convert {\n",
              "      background-color: #3B4455;\n",
              "      fill: #D2E3FC;\n",
              "    }\n",
              "\n",
              "    [theme=dark] .colab-df-convert:hover {\n",
              "      background-color: #434B5C;\n",
              "      box-shadow: 0px 1px 3px 1px rgba(0, 0, 0, 0.15);\n",
              "      filter: drop-shadow(0px 1px 2px rgba(0, 0, 0, 0.3));\n",
              "      fill: #FFFFFF;\n",
              "    }\n",
              "  </style>\n",
              "\n",
              "      <script>\n",
              "        const buttonEl =\n",
              "          document.querySelector('#df-8e6d009f-b459-486a-a626-b67f8ef635fe button.colab-df-convert');\n",
              "        buttonEl.style.display =\n",
              "          google.colab.kernel.accessAllowed ? 'block' : 'none';\n",
              "\n",
              "        async function convertToInteractive(key) {\n",
              "          const element = document.querySelector('#df-8e6d009f-b459-486a-a626-b67f8ef635fe');\n",
              "          const dataTable =\n",
              "            await google.colab.kernel.invokeFunction('convertToInteractive',\n",
              "                                                     [key], {});\n",
              "          if (!dataTable) return;\n",
              "\n",
              "          const docLinkHtml = 'Like what you see? Visit the ' +\n",
              "            '<a target=\"_blank\" href=https://colab.research.google.com/notebooks/data_table.ipynb>data table notebook</a>'\n",
              "            + ' to learn more about interactive tables.';\n",
              "          element.innerHTML = '';\n",
              "          dataTable['output_type'] = 'display_data';\n",
              "          await google.colab.output.renderOutput(dataTable, element);\n",
              "          const docLink = document.createElement('div');\n",
              "          docLink.innerHTML = docLinkHtml;\n",
              "          element.appendChild(docLink);\n",
              "        }\n",
              "      </script>\n",
              "    </div>\n",
              "  </div>\n",
              "  "
            ]
          },
          "metadata": {},
          "execution_count": 38
        }
      ]
    },
    {
      "cell_type": "markdown",
      "source": [
        "#**Building SVM Model**"
      ],
      "metadata": {
        "id": "ZwfzSWVDInoA"
      }
    },
    {
      "cell_type": "code",
      "source": [
        "# importing the necessary package to use the classification algorithm\n",
        "from sklearn import svm #for Support Vector Machine (SVM) Algorithm\n",
        "model_svm = svm.SVC() #select the algorithm\n",
        "model_svm.fit(X_train, y_train) #train the model with the training dataset\n",
        "y_prediction_svm = model_svm.predict(X_test) # pass the testing data to the trained model\n",
        "# checking the accuracy of the algorithm.\n",
        "# by comparing predicted output by the model and the actual output\n",
        "score_svm = metrics.accuracy_score(y_prediction_svm, y_test).round(4)\n",
        "print(\"----------------------------------\")\n",
        "print('The accuracy of the SVM is: {}'.format(score_svm))\n",
        "print(\"----------------------------------\")\n",
        "# save the accuracy score\n",
        "score = set()\n",
        "score.add(('SVM', score_svm))"
      ],
      "metadata": {
        "colab": {
          "base_uri": "https://localhost:8080/"
        },
        "id": "q0UO2lKAImjQ",
        "outputId": "4bca2e8b-42bb-407c-eb33-6b485a46c577"
      },
      "execution_count": null,
      "outputs": [
        {
          "output_type": "stream",
          "name": "stdout",
          "text": [
            "----------------------------------\n",
            "The accuracy of the SVM is: 0.8439\n",
            "----------------------------------\n"
          ]
        }
      ]
    },
    {
      "cell_type": "markdown",
      "source": [
        "Here SVM is doing pretty well on the car evaluation dataset."
      ],
      "metadata": {
        "id": "-nkKCdXPgumD"
      }
    },
    {
      "cell_type": "markdown",
      "source": [
        "#**Now Building The Decision Tree Model**"
      ],
      "metadata": {
        "id": "g0aSy_iug_7s"
      }
    },
    {
      "cell_type": "code",
      "source": [
        "# importing the necessary package to use the classification algorithm\n",
        "from sklearn.tree import DecisionTreeClassifier #for using Decision Tree Algoithm\n",
        "model_dt = DecisionTreeClassifier(random_state=4)\n",
        "model_dt.fit(X_train, y_train) #train the model with the training dataset\n",
        "y_prediction_dt = model_dt.predict(X_test) #pass the testing data to the trained model\n",
        "# checking the accuracy of the algorithm.\n",
        "# by comparing predicted output by the model and the actual output\n",
        "score_dt = metrics.accuracy_score(y_prediction_dt, y_test).round(4)\n",
        "print(\"---------------------------------\")\n",
        "print('The accuracy of the DT is: {}'.format(score_dt))\n",
        "print(\"---------------------------------\")\n",
        "# save the accuracy score\n",
        "score.add(('DT', score_dt))"
      ],
      "metadata": {
        "colab": {
          "base_uri": "https://localhost:8080/"
        },
        "id": "w6Yc4hjRfuzy",
        "outputId": "c8e5a299-6fe3-4268-d21c-89e29e3bbbed"
      },
      "execution_count": null,
      "outputs": [
        {
          "output_type": "stream",
          "name": "stdout",
          "text": [
            "---------------------------------\n",
            "The accuracy of the DT is: 0.9518\n",
            "---------------------------------\n"
          ]
        }
      ]
    },
    {
      "cell_type": "markdown",
      "source": [
        "\n",
        "\n",
        "*   Here it is clearly visible that Decision Tree Model is doning **far better** than the previous SVM model.\n",
        "\n",
        "\n"
      ],
      "metadata": {
        "id": "NH4W5Ww_hOvS"
      }
    },
    {
      "cell_type": "markdown",
      "source": [
        "#**K-Nearest Neighbour (KNN) Model Building**"
      ],
      "metadata": {
        "id": "VzQRhUr-hfka"
      }
    },
    {
      "cell_type": "code",
      "source": [
        "# importing the necessary package to use the classification algorithm\n",
        "from sklearn.neighbors import KNeighborsClassifier # for K nearest neighbours\n",
        "#from sklearn.linear_model import LogisticRegression # for Logistic Regression algorithm\n",
        "model_knn = KNeighborsClassifier(n_neighbors=3) # 3 neighbours for putting the new data into a class\n",
        "model_knn.fit(X_train, y_train) #train the model with the training dataset\n",
        "y_prediction_knn = model_knn.predict(X_test) #pass the testing data to the trained model\n",
        "# checking the accuracy of the algorithm.\n",
        "# by comparing predicted output by the model and the actual output\n",
        "score_knn = metrics.accuracy_score(y_prediction_knn, y_test).round(4)\n",
        "print(\"----------------------------------\")\n",
        "print('The accuracy of the KNN is: {}'.format(score_knn))\n",
        "print(\"----------------------------------\")\n",
        "# save the accuracy score\n",
        "score.add(('KNN', score_knn))"
      ],
      "metadata": {
        "colab": {
          "base_uri": "https://localhost:8080/"
        },
        "id": "AS-c6UJChdvm",
        "outputId": "78648473-16ec-44fc-cc2f-916319e8e277"
      },
      "execution_count": null,
      "outputs": [
        {
          "output_type": "stream",
          "name": "stdout",
          "text": [
            "----------------------------------\n",
            "The accuracy of the KNN is: 0.9056\n",
            "----------------------------------\n"
          ]
        }
      ]
    },
    {
      "cell_type": "markdown",
      "source": [
        "\n",
        "\n",
        "*   In the case of, KNN it is doing a very handy job.\n",
        "*   KNN model is performing **better** than the SVM model but at the same time the model is lack of accuracy at almost **6%** comparing with Decision Tree Model.\n",
        "\n"
      ],
      "metadata": {
        "id": "o1x1oz4yh0cq"
      }
    },
    {
      "cell_type": "markdown",
      "source": [
        "#**Naive Bayes Model Building**"
      ],
      "metadata": {
        "id": "VXLoLJ0nig1z"
      }
    },
    {
      "cell_type": "code",
      "source": [
        "# importing the necessary package to use the classification algorithm\n",
        "from sklearn.naive_bayes import GaussianNB\n",
        "model_nb = GaussianNB()\n",
        "model_nb.fit(X_train, y_train) #train the model with the training dataset\n",
        "y_prediction_nb = model_nb.predict(X_test) #pass the testing data to the trained model\n",
        "# checking the accuracy of the algorithm.\n",
        "# by comparing predicted output by the model and the actual output\n",
        "score_nb = metrics.accuracy_score(y_prediction_nb, y_test).round(4)\n",
        "print(\"---------------------------------\")\n",
        "print('The accuracy of the NB is: {}'.format(score_nb))\n",
        "print(\"---------------------------------\")\n",
        "# save the accuracy score\n",
        "score.add(('NB', score_nb))"
      ],
      "metadata": {
        "colab": {
          "base_uri": "https://localhost:8080/"
        },
        "id": "dgrSlvpyiwX8",
        "outputId": "529c021f-29bc-48d3-e24a-9ac6a820fe91"
      },
      "execution_count": null,
      "outputs": [
        {
          "output_type": "stream",
          "name": "stdout",
          "text": [
            "---------------------------------\n",
            "The accuracy of the NB is: 0.5645\n",
            "---------------------------------\n"
          ]
        }
      ]
    },
    {
      "cell_type": "markdown",
      "source": [
        "\n",
        "\n",
        "*   The accuracy of Naive Bayes Model is **very poor** comparing to others previous model that we have built.\n",
        "\n",
        "\n"
      ],
      "metadata": {
        "id": "HxTizNr0jB1y"
      }
    },
    {
      "cell_type": "markdown",
      "source": [
        "#**Comapring Between All The Built Models Accuracy And Pick The Best Model For The Car Evaluation Dataset**"
      ],
      "metadata": {
        "id": "NnGWVQ36jPbb"
      }
    },
    {
      "cell_type": "code",
      "source": [
        "print(\"The accuracy scores of different Models:\")\n",
        "print(\"----------------------------------------\")\n",
        "for s in score:\n",
        "  print(s)"
      ],
      "metadata": {
        "colab": {
          "base_uri": "https://localhost:8080/"
        },
        "id": "2vzJ-tNcpFSs",
        "outputId": "34213e21-6dae-4dd7-ae18-4c9f601eca3c"
      },
      "execution_count": null,
      "outputs": [
        {
          "output_type": "stream",
          "name": "stdout",
          "text": [
            "The accuracy scores of different Models:\n",
            "----------------------------------------\n",
            "('DT', 0.9518)\n",
            "('KNN', 0.9056)\n",
            "('SVM', 0.8439)\n",
            "('NB', 0.5645)\n"
          ]
        }
      ]
    },
    {
      "cell_type": "markdown",
      "source": [
        "*Here, we can see the accuracy of different models that we have built for the Car Evaluation Datset.*\n",
        "\n",
        "\n",
        "*   Different models are showing **different** accuracies.\n",
        "*   Some models have done great job on the dataset to classify the target variable while other models did not have that much accuracy.\n",
        "\n",
        "\n",
        "*   Four models **(SVM, DT, KNN, NB)** were built and implemented in this particular project to claasify the Acceptability of a car based on different features associated with cars.\n",
        "*   From the numerical data of accuracies it is clear that, Naive Bayes model has the most **less** accuracy. So, we can not pick Naive Bayes model for classify the Acceptability of a car based on the particular dataset that we have used.\n",
        "\n",
        "\n",
        "*   Now, comming to other two models KNN and SVM. Their accuracy is way better than the Naive Bayes model while they are giving accuracy around **90% and 84%** respectively. So, that indicates they are quite good model for classify the Accepatbility more accurately.\n",
        "*   We have already seen that, KNN and SVM provided good accuracies. But the best accuracy gain was with the Decision Tree model where accuracy was **95%**. That sounds good and it will provide the **best outcome** in terms of classify the Acceptability of the car for this particular dataset. Which will have a great impact on evaluating a car whether the car is very good or good in terms of acceptability otherwise simply the car can be acceptable or not.\n",
        "\n",
        "***So, the final picked model is Decision Tree for this particular project and dataset. Hopefully, with the help of the finally picked classifier or model Acceptability of a car can be claasified accurately which will help the Car Seller to make important business desicion. Whether they can tune their car features for gaining higher sale than their previous time.***\n",
        "\n",
        "\n",
        "\n",
        "\n",
        "\n",
        "\n",
        "\n",
        "\n",
        "\n"
      ],
      "metadata": {
        "id": "m9r49CrpkXoW"
      }
    }
  ]
}